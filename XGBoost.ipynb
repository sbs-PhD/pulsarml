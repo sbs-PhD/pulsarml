{
 "cells": [
  {
   "cell_type": "markdown",
   "metadata": {},
   "source": [
    "# Running XGBoost on the dataset."
   ]
  },
  {
   "cell_type": "code",
   "execution_count": 1,
   "metadata": {
    "collapsed": false
   },
   "outputs": [
    {
     "name": "stderr",
     "output_type": "stream",
     "text": [
      "/home/shining/anaconda2/lib/python2.7/site-packages/sklearn/cross_validation.py:44: DeprecationWarning: This module was deprecated in version 0.18 in favor of the model_selection module into which all the refactored classes and functions are moved. Also note that the interface of the new CV iterators are different from that of this module. This module will be removed in 0.20.\n",
      "  \"This module will be removed in 0.20.\", DeprecationWarning)\n",
      "/home/shining/anaconda2/lib/python2.7/site-packages/sklearn/grid_search.py:43: DeprecationWarning: This module was deprecated in version 0.18 in favor of the model_selection module into which all the refactored classes and functions are moved. This module will be removed in 0.20.\n",
      "  DeprecationWarning)\n"
     ]
    }
   ],
   "source": [
    "import numpy as np\n",
    "import pandas as pd\n",
    "import matplotlib.pyplot as plt\n",
    "import xgboost as xgb\n",
    "from sklearn.metrics import confusion_matrix\n",
    "from sklearn.grid_search import GridSearchCV\n",
    "from pcfm import plot_confusion_matrix\n",
    "from pfimp import plot_feature_importance\n",
    "from sklearn.model_selection import StratifiedKFold\n",
    "from threeinone import cfm3in1, fimp3in1\n",
    "from fpr_area import givemis,areas,erts_plot,thres"
   ]
  },
  {
   "cell_type": "code",
   "execution_count": 2,
   "metadata": {
    "collapsed": true
   },
   "outputs": [],
   "source": [
    "df = pd.read_csv('all_in_one.csv')\n",
    "df = pd.DataFrame.as_matrix(df)\n",
    "# It seems there are NaNs in the dataset.. \n",
    "# And all of them are in column 3. The one with log(.)\n",
    "df = df[~np.isnan(df).any(axis=1)]\n",
    "X = df[:,0:6] # Our feature matrix\n",
    "y = np.array(df[:,-1],dtype=np.int) # Our truth labels\n",
    "idx = np.array(df[:,6],dtype=np.int) # our ID\n",
    "clname = ['RFI','PULSAR']\n",
    "np.set_printoptions(precision=2)"
   ]
  },
  {
   "cell_type": "markdown",
   "metadata": {},
   "source": [
    "## No oversampling"
   ]
  },
  {
   "cell_type": "code",
   "execution_count": 3,
   "metadata": {
    "collapsed": true
   },
   "outputs": [],
   "source": [
    "kf = StratifiedKFold(3,shuffle=True,random_state=340)\n",
    "conf_mats = [] # list to hold the confusion matrices\n",
    "fimpl = [] # list to hold the feature importances\n",
    "predprobs = [] # predicted probabilities"
   ]
  },
  {
   "cell_type": "code",
   "execution_count": 4,
   "metadata": {
    "collapsed": true
   },
   "outputs": [],
   "source": [
    "# Hyperparameters\n",
    "num_trees = 500\n",
    "random_seed = 9876\n",
    "num_obj_leaf_node = 3"
   ]
  },
  {
   "cell_type": "code",
   "execution_count": 5,
   "metadata": {
    "collapsed": false
   },
   "outputs": [
    {
     "name": "stdout",
     "output_type": "stream",
     "text": [
      "[ 0 ] Iteration...Starting\n",
      "[``] Fitting\n",
      "[ 0 ] Iteration...Done\n",
      "[ 1 ] Iteration...Starting\n",
      "[``] Fitting\n",
      "[ 1 ] Iteration...Done\n",
      "[ 2 ] Iteration...Starting\n",
      "[``] Fitting\n",
      "[ 2 ] Iteration...Done\n"
     ]
    }
   ],
   "source": [
    "rc = 0\n",
    "plt.figure()\n",
    "conf_mats = []\n",
    "for tr,te in kf.split(X,y):\n",
    "     print \"[\",rc,'] Iteration...Starting'\n",
    "     xtrain, xtest = X[tr],X[te]\n",
    "     ytrain, ytest,ytid = y[tr],y[te],idx[te]\n",
    "     adclf = xgb.XGBClassifier(learning_rate=1e-3,n_estimators=500,nthread=4,max_depth=3,reg_alpha=1e-4,gamma=1e-1)\n",
    "     print \"[``] Fitting\"\n",
    "     adclf.fit(xtrain,ytrain) # My fitting\n",
    "     ypredict = adclf.predict(xtest)\n",
    "     conf_mats.append(confusion_matrix(ytest,ypredict))\n",
    "     imp = adclf.feature_importances_\n",
    "     fimpl.append(imp)\n",
    "     ypp = adclf.predict_proba(xtest)\n",
    "     tdf = np.column_stack((ytest,ypredict,ypp[:,0],ypp[:,1]))\n",
    "     if rc == 0:\n",
    "        outdf = tdf\n",
    "     else:\n",
    "        outdf = np.concatenate((outdf,tdf),axis=0)\n",
    "     print \"[\",rc,'] Iteration...Done'\n",
    "     rc = rc + 1"
   ]
  },
  {
   "cell_type": "code",
   "execution_count": 6,
   "metadata": {
    "collapsed": false
   },
   "outputs": [
    {
     "data": {
      "text/plain": [
       "<matplotlib.figure.Figure at 0x7f7c64394510>"
      ]
     },
     "metadata": {},
     "output_type": "display_data"
    },
    {
     "data": {
      "image/png": "[encoded data removed]",
      "text/plain": [
       "<matplotlib.figure.Figure at 0x7f7c332eba10>"
      ]
     },
     "metadata": {},
     "output_type": "display_data"
    }
   ],
   "source": [
    "cfm3in1(conf_mats,clname)\n",
    "plt.show()"
   ]
  },
  {
   "cell_type": "code",
   "execution_count": 7,
   "metadata": {
    "collapsed": false,
    "scrolled": true
   },
   "outputs": [
    {
     "data": {
      "image/png": "[encoded data removed]",
      "text/plain": [
       "<matplotlib.figure.Figure at 0x7f7c32a12e10>"
      ]
     },
     "metadata": {},
     "output_type": "display_data"
    }
   ],
   "source": [
    "fimp3in1(fimpl)\n",
    "plt.show()"
   ]
  },
  {
   "cell_type": "markdown",
   "metadata": {},
   "source": [
    "## SMOTE\n",
    "SMOTE is a way to learn imbalanced or highly skewed datasets. \n",
    "We specify a ratio of minority samples(pulsars) and majority samples(RFIs) and SMOTE using K-means and interpolation, generates new samples of the minority class until the desired ratio is achieved. \n",
    "\n",
    "After getting sX,sy afterever follows is the same. Fitting and plotting just with a minor change that I've prepended 'sm' to each variable to differentiate."
   ]
  },
  {
   "cell_type": "code",
   "execution_count": 21,
   "metadata": {
    "collapsed": true
   },
   "outputs": [],
   "source": [
    "from imblearn.over_sampling import SMOTE\n",
    "# this is one additional function I'll be needing\n",
    "sme = SMOTE(ratio=0.5,random_state=1234) # please refer the above section for param definitions.\n",
    "smX,smy = sme.fit_sample(X,y) # transforming "
   ]
  },
  {
   "cell_type": "code",
   "execution_count": 22,
   "metadata": {
    "collapsed": true
   },
   "outputs": [],
   "source": [
    "smkf = StratifiedKFold(3,shuffle=True,random_state=340)\n",
    "smconf_mats = [] # list to hold the confusion matrices\n",
    "smfimpl = [] # list to hold the feature importances\n",
    "smpredprobs = [] # predicted probabilities"
   ]
  },
  {
   "cell_type": "code",
   "execution_count": 23,
   "metadata": {
    "collapsed": false
   },
   "outputs": [
    {
     "name": "stdout",
     "output_type": "stream",
     "text": [
      "[ 0 ] Iteration...Starting\n",
      "[``] Fitting\n",
      "[ 0 ] Iteration...Done\n",
      "[ 1 ] Iteration...Starting\n",
      "[``] Fitting\n",
      "[ 1 ] Iteration...Done\n",
      "[ 2 ] Iteration...Starting\n",
      "[``] Fitting\n",
      "[ 2 ] Iteration...Done\n"
     ]
    }
   ],
   "source": [
    "rc = 0\n",
    "plt.figure()\n",
    "for tr,te in kf.split(smX,smy):\n",
    "     print \"[\",rc,'] Iteration...Starting'\n",
    "     xtrain, xtest = smX[tr],smX[te]\n",
    "     ytrain, ytest= smy[tr],smy[te]\n",
    "     smadclf = xgb.XGBClassifier(learning_rate=1e-3,n_estimators=500,nthread=4,max_depth=4,reg_alpha=1e-4,gamma=1e-1)\n",
    "     print \"[``] Fitting\"\n",
    "     smadclf.fit(xtrain,ytrain) # My fitting\n",
    "     ypredict = smadclf.predict(xtest)\n",
    "     smconf_mats.append(confusion_matrix(ytest,ypredict))\n",
    "     imp = smadclf.feature_importances_\n",
    "     smfimpl.append(imp)\n",
    "     ypp = smadclf.predict_proba(xtest)\n",
    "     tdf = np.column_stack((ytest,ypredict,ypp[:,0],ypp[:,1]))\n",
    "     if rc == 0:\n",
    "        smoutdf = tdf\n",
    "     else:\n",
    "        smoutdf = np.concatenate((smoutdf,tdf),axis=0)\n",
    "     print \"[\",rc,'] Iteration...Done'\n",
    "     rc = rc + 1"
   ]
  },
  {
   "cell_type": "code",
   "execution_count": 24,
   "metadata": {
    "collapsed": false
   },
   "outputs": [
    {
     "data": {
      "text/plain": [
       "<matplotlib.figure.Figure at 0x7f7c2c09c650>"
      ]
     },
     "metadata": {},
     "output_type": "display_data"
    },
    {
     "data": {
      "image/png": "[encoded data removed]",
      "text/plain": [
       "<matplotlib.figure.Figure at 0x7f7c2e83c7d0>"
      ]
     },
     "metadata": {},
     "output_type": "display_data"
    }
   ],
   "source": [
    "cfm3in1(smconf_mats,clname)\n",
    "plt.show()"
   ]
  },
  {
   "cell_type": "code",
   "execution_count": 25,
   "metadata": {
    "collapsed": false
   },
   "outputs": [
    {
     "data": {
      "image/png": "[encoded data removed]",
      "text/plain": [
       "<matplotlib.figure.Figure at 0x7f7c1ffdd8d0>"
      ]
     },
     "metadata": {},
     "output_type": "display_data"
    }
   ],
   "source": [
    "fimp3in1(smfimpl)\n",
    "plt.show()"
   ]
  },
  {
   "cell_type": "markdown",
   "metadata": {},
   "source": [
    "## FPR Analysis"
   ]
  },
  {
   "cell_type": "code",
   "execution_count": 26,
   "metadata": {
    "collapsed": false
   },
   "outputs": [
    {
     "data": {
      "image/png": "[encoded data removed]",
      "text/plain": [
       "<matplotlib.figure.Figure at 0x7f7c2e771610>"
      ]
     },
     "metadata": {},
     "output_type": "display_data"
    }
   ],
   "source": [
    "erts_plot(givemis(outdf,0.0,1.0),givemis(outdf,0.2,0.8),[0.2,0.8])\n",
    "plt.show()"
   ]
  },
  {
   "cell_type": "code",
   "execution_count": 28,
   "metadata": {
    "collapsed": false
   },
   "outputs": [
    {
     "data": {
      "image/png": "[encoded data removed]",
      "text/plain": [
       "<matplotlib.figure.Figure at 0x7f7c2c0f5750>"
      ]
     },
     "metadata": {},
     "output_type": "display_data"
    }
   ],
   "source": [
    "erts_plot(givemis(smoutdf,0.0,1.0),givemis(smoutdf,0.4,0.8),[0.4,0.8])\n",
    "plt.show()"
   ]
  },
  {
   "cell_type": "code",
   "execution_count": 34,
   "metadata": {
    "collapsed": false
   },
   "outputs": [
    {
     "name": "stdout",
     "output_type": "stream",
     "text": [
      "FPR: 0.000371320550905\n",
      "FNR: 1.12521379062e-05\n",
      "Recall: 0.999161073826\n",
      "Precision: 0.973039215686\n"
     ]
    }
   ],
   "source": [
    "thres(0.4,outdf)"
   ]
  },
  {
   "cell_type": "code",
   "execution_count": 39,
   "metadata": {
    "collapsed": false
   },
   "outputs": [
    {
     "name": "stdout",
     "output_type": "stream",
     "text": [
      "FPR: 0.000258799171843\n",
      "FNR: 6.75128274372e-05\n",
      "Recall: 0.994966442953\n",
      "Precision: 0.980976013234\n"
     ]
    }
   ],
   "source": [
    "thres(0.6,outdf)"
   ]
  },
  {
   "cell_type": "code",
   "execution_count": 38,
   "metadata": {
    "collapsed": false
   },
   "outputs": [
    {
     "name": "stdout",
     "output_type": "stream",
     "text": [
      "FPR: 0.000146277792781\n",
      "FNR: 0.000180034206499\n",
      "Recall: 0.986577181208\n",
      "Precision: 0.989066442389\n"
     ]
    }
   ],
   "source": [
    "thres(0.68,outdf)"
   ]
  },
  {
   "cell_type": "code",
   "execution_count": 40,
   "metadata": {
    "collapsed": false
   },
   "outputs": [
    {
     "name": "stdout",
     "output_type": "stream",
     "text": [
      "FPR: 0.000152068126521\n",
      "FNR: 7.60340632603e-06\n",
      "Recall: 0.999977189781\n",
      "Precision: 0.999543993251\n"
     ]
    }
   ],
   "source": [
    "thres(0.5,smoutdf)"
   ]
  },
  {
   "cell_type": "code",
   "execution_count": 41,
   "metadata": {
    "collapsed": false
   },
   "outputs": [
    {
     "name": "stdout",
     "output_type": "stream",
     "text": [
      "FPR: 0.000121654501217\n",
      "FNR: 4.56204379562e-05\n",
      "Recall: 0.999863138686\n",
      "Precision: 0.999635119726\n"
     ]
    }
   ],
   "source": [
    "thres(0.6,smoutdf)"
   ]
  },
  {
   "cell_type": "code",
   "execution_count": 42,
   "metadata": {
    "collapsed": false,
    "scrolled": true
   },
   "outputs": [
    {
     "name": "stdout",
     "output_type": "stream",
     "text": [
      "FPR: 0.000114051094891\n",
      "FNR: 9.12408759124e-05\n",
      "Recall: 0.999726277372\n",
      "Precision: 0.999657870128\n"
     ]
    }
   ],
   "source": [
    "thres(0.65,smoutdf)"
   ]
  },
  {
   "cell_type": "markdown",
   "metadata": {},
   "source": [
    "## Metric scores"
   ]
  },
  {
   "cell_type": "code",
   "execution_count": 29,
   "metadata": {
    "collapsed": true
   },
   "outputs": [],
   "source": [
    "from sklearn.metrics import *"
   ]
  },
  {
   "cell_type": "code",
   "execution_count": 30,
   "metadata": {
    "collapsed": false
   },
   "outputs": [
    {
     "name": "stdout",
     "output_type": "stream",
     "text": [
      "The recall score is    0.9992\n",
      "The precision score is 0.9746\n",
      "The accuracy is        0.9996\n",
      "The f1 score is        0.9867\n",
      "The logloss score is   0.0124\n",
      "The MCC is             0.9866\n"
     ]
    }
   ],
   "source": [
    "print \"The recall score is    {:0.4f}\".format(recall_score(outdf[:,0],outdf[:,1]))\n",
    "print \"The precision score is {:0.4f}\".format(precision_score(outdf[:,0],outdf[:,1]))\n",
    "print \"The accuracy is        {:0.4f}\".format(accuracy_score(outdf[:,0],outdf[:,1]))\n",
    "print \"The f1 score is        {:0.4f}\".format(f1_score(outdf[:,0],outdf[:,1]))\n",
    "print \"The logloss score is   {:0.4f}\".format(log_loss(outdf[:,0],outdf[:,1]))\n",
    "print \"The MCC is             {:0.4f}\".format(matthews_corrcoef(outdf[:,0],outdf[:,1]))"
   ]
  },
  {
   "cell_type": "code",
   "execution_count": 31,
   "metadata": {
    "collapsed": false
   },
   "outputs": [
    {
     "name": "stdout",
     "output_type": "stream",
     "text": [
      "The recall score is    0.999977\n",
      "The precision score is 0.9995\n",
      "The accuracy is        0.9998\n",
      "The f1 score is        0.9998\n",
      "The logloss score is   0.0055\n",
      "The MCC is             0.9996\n"
     ]
    }
   ],
   "source": [
    "print \"The recall score is    {:f}\".format(recall_score(smoutdf[:,0],smoutdf[:,1]))\n",
    "print \"The precision score is {:0.4f}\".format(precision_score(smoutdf[:,0],smoutdf[:,1]))\n",
    "print \"The accuracy is        {:0.4f}\".format(accuracy_score(smoutdf[:,0],smoutdf[:,1]))\n",
    "print \"The f1 score is        {:0.4f}\".format(f1_score(smoutdf[:,0],smoutdf[:,1]))\n",
    "print \"The logloss score is   {:0.4f}\".format(log_loss(smoutdf[:,0],smoutdf[:,1]))\n",
    "print \"The MCC is             {:0.4f}\".format(matthews_corrcoef(smoutdf[:,0],smoutdf[:,1]))"
   ]
  },
  {
   "cell_type": "markdown",
   "metadata": {},
   "source": [
    "## Area analysis"
   ]
  },
  {
   "cell_type": "code",
   "execution_count": 32,
   "metadata": {
    "collapsed": false
   },
   "outputs": [
    {
     "name": "stdout",
     "output_type": "stream",
     "text": [
      "mmint 1.92081950116e-05\n",
      "mis1 0.304072432853\n",
      "mis2 0.00415181157147\n"
     ]
    }
   ],
   "source": [
    "areas(givemis(outdf,0.0,1.0))"
   ]
  },
  {
   "cell_type": "code",
   "execution_count": 33,
   "metadata": {
    "collapsed": false
   },
   "outputs": [
    {
     "name": "stdout",
     "output_type": "stream",
     "text": [
      "mmint 1.02146771855e-05\n",
      "mis1 0.205448877461\n",
      "mis2 0.102706198235\n"
     ]
    }
   ],
   "source": [
    "areas(givemis(smoutdf,0.0,1.0))"
   ]
  }
 ],
 "metadata": {
  "kernelspec": {
   "display_name": "Python 2",
   "language": "python",
   "name": "python2"
  },
  "language_info": {
   "codemirror_mode": {
    "name": "ipython",
    "version": 2
   },
   "file_extension": ".py",
   "mimetype": "text/x-python",
   "name": "python",
   "nbconvert_exporter": "python",
   "pygments_lexer": "ipython2",
   "version": "2.7.13"
  }
 },
 "nbformat": 4,
 "nbformat_minor": 2
}
