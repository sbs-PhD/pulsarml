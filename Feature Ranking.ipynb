{
 "cells": [
  {
   "cell_type": "code",
   "execution_count": 1,
   "metadata": {
    "collapsed": true
   },
   "outputs": [],
   "source": [
    "import numpy as np\n",
    "import pandas as pd\n",
    "import matplotlib.pyplot as plt\n",
    "from sklearn.feature_selection import mutual_info_classif, mutual_info_regression\n",
    "from imblearn.over_sampling import SMOTE\n",
    "EPS = np.finfo(float).eps\n",
    "import pickle\n",
    "from pfimp import plot_feature_importance"
   ]
  },
  {
   "cell_type": "code",
   "execution_count": 2,
   "metadata": {
    "collapsed": true
   },
   "outputs": [],
   "source": [
    "df = pd.read_csv('all_in_one.csv')\n",
    "df = pd.DataFrame.as_matrix(df)\n",
    "# It seems there are NaNs in the dataset.. \n",
    "# And all of them are in column 3. The one with log(.)\n",
    "df = df[~np.isnan(df).any(axis=1)]\n",
    "X = df[:,0:6] # Our feature matrix\n",
    "y = np.array(df[:,-1],dtype=np.int) # Our truth labels\n",
    "idx = np.array(df[:,6],dtype=np.int) # our ID\n",
    "clname = ['RFI','PULSAR']\n",
    "n,d = X.shape\n",
    "num_iterations = 50\n",
    "mi_features_y = np.zeros(d)\n",
    "mi_features   = np.zeros((d,d))\n",
    "smi_features_y = np.zeros(d)\n",
    "smi_features   = np.zeros((d,d))"
   ]
  },
  {
   "cell_type": "code",
   "execution_count": 3,
   "metadata": {
    "collapsed": true
   },
   "outputs": [],
   "source": [
    "with open('ada_fimp.dat','r') as f:\n",
    "        ada_fimp, ada_sfimp = pickle.load(f)\n",
    "with open('gbc_fimp.dat','r') as f:\n",
    "        gbc_fimp, gbc_sfimp = pickle.load(f)\n",
    "with open('xgb_fimp.dat','r') as f:\n",
    "        xgb_fimp, xgb_sfimp = pickle.load(f)\n",
    "\n",
    "ada_ns = np.mean(ada_fimp,0)\n",
    "ada_s = np.mean(ada_sfimp,0)\n",
    "ada_ns_std = np.std(ada_fimp,0)\n",
    "ada_s_std = np.std(ada_sfimp,0)\n",
    "\n",
    "gbc_ns = np.mean(gbc_fimp,0)\n",
    "gbc_s = np.mean(gbc_sfimp,0)\n",
    "gbc_ns_std = np.std(gbc_fimp,0)\n",
    "gbc_s_std = np.std(gbc_sfimp,0)\n",
    "\n",
    "xgb_ns = np.mean(xgb_fimp,0)\n",
    "xgb_s = np.mean(xgb_sfimp,0)\n",
    "xgb_ns_std = np.std(xgb_fimp,0)\n",
    "xgb_s_std = np.std(xgb_sfimp,0)\n",
    "\n",
    "all_trees_ns = np.concatenate((ada_fimp,gbc_fimp,xgb_fimp),0)\n",
    "all_trees_s = np.concatenate((ada_sfimp,gbc_sfimp,xgb_sfimp),0)\n",
    "altrees_ns = np.mean(all_trees_ns,0)\n",
    "altrees_ns_std = np.std(all_trees_ns,0)\n",
    "altrees_s = np.mean(all_trees_s,0)\n",
    "altrees_s_std = np.std(all_trees_s,0)"
   ]
  },
  {
   "cell_type": "markdown",
   "metadata": {},
   "source": [
    "## Mutual Information calculation"
   ]
  },
  {
   "cell_type": "code",
   "execution_count": 4,
   "metadata": {
    "collapsed": false,
    "scrolled": true
   },
   "outputs": [],
   "source": [
    "for bb in xrange(num_iterations):\n",
    "    # print \"{0} iteration\".format(bb)\n",
    "    mi_features_y += mutual_info_classif(X,y)\n",
    "mi_features_y /= float(num_iterations)"
   ]
  },
  {
   "cell_type": "code",
   "execution_count": 5,
   "metadata": {
    "collapsed": false,
    "scrolled": true
   },
   "outputs": [],
   "source": [
    "for bb in xrange(num_iterations):\n",
    "    ind = np.random.choice(n,size=10000,replace=False)\n",
    "    # print \"{0} iteration\".format(bb)\n",
    "    for i in xrange(d):\n",
    "        mi_features[i] += mutual_info_regression(X[ind],X[ind,i])\n",
    "mi_features /= float(num_iterations)      "
   ]
  },
  {
   "cell_type": "code",
   "execution_count": 6,
   "metadata": {
    "collapsed": true
   },
   "outputs": [],
   "source": [
    "sme = SMOTE(ratio=1.0)\n",
    "sX, sy = sme.fit_sample(X,y)"
   ]
  },
  {
   "cell_type": "code",
   "execution_count": 7,
   "metadata": {
    "collapsed": false,
    "scrolled": true
   },
   "outputs": [],
   "source": [
    "for bb in xrange(num_iterations):\n",
    "    #print \"{0} iteration\".format(bb)\n",
    "    smi_features_y += mutual_info_classif(sX,sy)\n",
    "smi_features_y /= float(num_iterations)"
   ]
  },
  {
   "cell_type": "code",
   "execution_count": 8,
   "metadata": {
    "collapsed": false,
    "scrolled": true
   },
   "outputs": [],
   "source": [
    "for bb in xrange(num_iterations):\n",
    "    ind = np.random.choice(n,size=10000,replace=False)\n",
    "    #print \"{0} iteration\".format(bb)\n",
    "    for i in xrange(d):\n",
    "        smi_features[i] += mutual_info_regression(sX[ind],sX[ind,i])\n",
    "smi_features /= float(num_iterations)      "
   ]
  },
  {
   "cell_type": "markdown",
   "metadata": {},
   "source": [
    "# mRMR\n",
    "\n",
    "mRMR stands for **minimum redunduncy maximum relevance**. Please check out the paper to understand this approach."
   ]
  },
  {
   "cell_type": "markdown",
   "metadata": {},
   "source": [
    "#### Non-SMOTE"
   ]
  },
  {
   "cell_type": "code",
   "execution_count": 9,
   "metadata": {
    "collapsed": true
   },
   "outputs": [],
   "source": [
    "for i in xrange(d):\n",
    "    mi_features[i,i] = 0.0\n",
    "milist = mi_features_y - np.sum(mi_features,axis=1)/(d-1)\n",
    "ranklist = np.argsort(milist)[::-1] # arg-sort is ascending order. "
   ]
  },
  {
   "cell_type": "code",
   "execution_count": 10,
   "metadata": {
    "collapsed": false
   },
   "outputs": [
    {
     "data": {
      "text/plain": [
       "array([0, 4, 2, 3, 1, 5])"
      ]
     },
     "execution_count": 10,
     "metadata": {},
     "output_type": "execute_result"
    }
   ],
   "source": [
    "ranklist"
   ]
  },
  {
   "cell_type": "markdown",
   "metadata": {},
   "source": [
    "#### SMOTE"
   ]
  },
  {
   "cell_type": "code",
   "execution_count": 22,
   "metadata": {
    "collapsed": true
   },
   "outputs": [],
   "source": [
    "for i in xrange(d):\n",
    "    smi_features[i,i] = 0.0\n",
    "smilist = smi_features_y - np.sum(smi_features,axis=1)/(d-1)\n",
    "sranklist = np.argsort(smilist)[::-1] # arg-sort is ascending order."
   ]
  },
  {
   "cell_type": "code",
   "execution_count": 23,
   "metadata": {
    "collapsed": false
   },
   "outputs": [
    {
     "data": {
      "text/plain": [
       "array([0, 2, 3, 4, 1, 5])"
      ]
     },
     "execution_count": 23,
     "metadata": {},
     "output_type": "execute_result"
    }
   ],
   "source": [
    "sranklist"
   ]
  },
  {
   "cell_type": "code",
   "execution_count": 13,
   "metadata": {
    "collapsed": false
   },
   "outputs": [],
   "source": [
    "with open('mrmr_mi.dat','wb') as f:\n",
    "    pickle.dump([mi_features_y, mi_features],f)"
   ]
  },
  {
   "cell_type": "markdown",
   "metadata": {},
   "source": [
    "## Adaboost"
   ]
  },
  {
   "cell_type": "code",
   "execution_count": 14,
   "metadata": {
    "collapsed": false
   },
   "outputs": [
    {
     "data": {
      "image/png": "[encoded data removed]",
      "text/plain": [
       "<matplotlib.figure.Figure at 0x7f366d97b090>"
      ]
     },
     "metadata": {},
     "output_type": "display_data"
    }
   ],
   "source": [
    "plot_feature_importance(ada_ns,ada_ns_std,'Adaboost (non-SMOTE)')\n",
    "plt.show()"
   ]
  },
  {
   "cell_type": "code",
   "execution_count": 15,
   "metadata": {
    "collapsed": false
   },
   "outputs": [
    {
     "data": {
      "image/png": "[encoded data removed]",
      "text/plain": [
       "<matplotlib.figure.Figure at 0x7f365f577d90>"
      ]
     },
     "metadata": {},
     "output_type": "display_data"
    }
   ],
   "source": [
    "plot_feature_importance(ada_s,ada_s_std,'Adaboost (SMOTE)')\n",
    "plt.show()"
   ]
  },
  {
   "cell_type": "markdown",
   "metadata": {},
   "source": [
    "## GBC\n"
   ]
  },
  {
   "cell_type": "code",
   "execution_count": 16,
   "metadata": {
    "collapsed": false
   },
   "outputs": [
    {
     "data": {
      "image/png": "[encoded data removed]",
      "text/plain": [
       "<matplotlib.figure.Figure at 0x7f369463eb90>"
      ]
     },
     "metadata": {},
     "output_type": "display_data"
    }
   ],
   "source": [
    "plot_feature_importance(gbc_ns,gbc_ns_std,'GBC (non-SMOTE)')\n",
    "plt.show()"
   ]
  },
  {
   "cell_type": "code",
   "execution_count": 17,
   "metadata": {
    "collapsed": false
   },
   "outputs": [
    {
     "data": {
      "image/png": "[encoded data removed]",
      "text/plain": [
       "<matplotlib.figure.Figure at 0x7f365f03b410>"
      ]
     },
     "metadata": {},
     "output_type": "display_data"
    }
   ],
   "source": [
    "plot_feature_importance(gbc_s,gbc_s_std,'GBC (SMOTE)')\n",
    "plt.show()"
   ]
  },
  {
   "cell_type": "markdown",
   "metadata": {},
   "source": [
    "## XGBoost"
   ]
  },
  {
   "cell_type": "code",
   "execution_count": 18,
   "metadata": {
    "collapsed": false
   },
   "outputs": [
    {
     "data": {
      "image/png": "[encoded data removed]",
      "text/plain": [
       "<matplotlib.figure.Figure at 0x7f365f007d50>"
      ]
     },
     "metadata": {},
     "output_type": "display_data"
    }
   ],
   "source": [
    "plot_feature_importance(xgb_ns,xgb_ns_std,'XGBoost (non-SMOTE)')\n",
    "plt.show()"
   ]
  },
  {
   "cell_type": "code",
   "execution_count": 19,
   "metadata": {
    "collapsed": false
   },
   "outputs": [
    {
     "data": {
      "image/png": "[encoded data removed]",
      "text/plain": [
       "<matplotlib.figure.Figure at 0x7f365efd4990>"
      ]
     },
     "metadata": {},
     "output_type": "display_data"
    }
   ],
   "source": [
    "plot_feature_importance(xgb_s,xgb_s_std,'XGBoost (SMOTE)')\n",
    "plt.show()"
   ]
  },
  {
   "cell_type": "markdown",
   "metadata": {},
   "source": [
    "## Adaboost + GBC + XGBoost"
   ]
  },
  {
   "cell_type": "code",
   "execution_count": 20,
   "metadata": {
    "collapsed": false
   },
   "outputs": [
    {
     "data": {
      "image/png": "[encoded data removed]",
      "text/plain": [
       "<matplotlib.figure.Figure at 0x7f365f1ed4d0>"
      ]
     },
     "metadata": {},
     "output_type": "display_data"
    }
   ],
   "source": [
    "plot_feature_importance(altrees_ns,altrees_ns_std,'Adaboost + GBC + XGBoost (non-SMOTE)')\n",
    "plt.show()"
   ]
  },
  {
   "cell_type": "code",
   "execution_count": 21,
   "metadata": {
    "collapsed": false
   },
   "outputs": [
    {
     "data": {
      "image/png": "[encoded data removed]",
      "text/plain": [
       "<matplotlib.figure.Figure at 0x7f365ef2c590>"
      ]
     },
     "metadata": {},
     "output_type": "display_data"
    }
   ],
   "source": [
    "plot_feature_importance(altrees_s,altrees_s_std,'Adaboost + GBC + XGBoost (SMOTE)')\n",
    "plt.show()"
   ]
  }
 ],
 "metadata": {
  "kernelspec": {
   "display_name": "Python 2",
   "language": "python",
   "name": "python2"
  },
  "language_info": {
   "codemirror_mode": {
    "name": "ipython",
    "version": 2
   },
   "file_extension": ".py",
   "mimetype": "text/x-python",
   "name": "python",
   "nbconvert_exporter": "python",
   "pygments_lexer": "ipython2",
   "version": "2.7.13"
  }
 },
 "nbformat": 4,
 "nbformat_minor": 2
}
