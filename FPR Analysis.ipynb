{
 "cells": [
  {
   "cell_type": "markdown",
   "metadata": {},
   "source": [
    "# False Positive Rate analysis \n",
    "\n",
    "We store all the probabilities as returned by the ML algorithm under test in each of the test fold of our $20 \\times 5$-fold Stratified Cross Validation. Using those, we perform FPR analysis and report the classifier under test's performance for user-defined thresholds(in $[0,1]$ since we're talking about probabilities).\n"
   ]
  },
  {
   "cell_type": "code",
   "execution_count": 1,
   "metadata": {
    "collapsed": true
   },
   "outputs": [],
   "source": [
    "import numpy as np\n",
    "import matplotlib.pyplot as plt\n",
    "import pickle\n",
    "from fpr_area import ThresholdAnalysis"
   ]
  },
  {
   "cell_type": "markdown",
   "metadata": {},
   "source": [
    "*Please note that you may have to run the analysis once on your system(while uncommenting some lines in the ipynbs) to get the following files*\n",
    "*Also note that these files are ~200 MB each*"
   ]
  },
  {
   "cell_type": "code",
   "execution_count": 2,
   "metadata": {
    "collapsed": true
   },
   "outputs": [],
   "source": [
    "with open('nn_data.dat','rb') as f:\n",
    "    nn_y, nn_prob, nn_sprob =pickle.load(f)\n",
    "with open('gbc_ultimate.dat','rb') as f:\n",
    "    gbc_y, gbc_prob, gbc_sprob =pickle.load(f)\n",
    "with open('ada_data.dat','rb') as f:\n",
    "    ada_y, ada_prob, ada_sprob =pickle.load(f)\n",
    "with open('xgb_data.dat','rb') as f:\n",
    "    xgb_y, xgb_prob, xgb_sprob = pickle.load(f)"
   ]
  },
  {
   "cell_type": "markdown",
   "metadata": {},
   "source": [
    "We shall be reporting Recall, Precision, FPR and FNR at specific thresholds for all the ML models(including the non-SMOTE and SMOTE). \n",
    "We've chosen $4$ equally spaced points in $[0,1]$ since our thresholds are actually probabilities and moreover, we're only interested in global trend and not in small scale variations."
   ]
  },
  {
   "cell_type": "code",
   "execution_count": 3,
   "metadata": {
    "collapsed": true
   },
   "outputs": [],
   "source": [
    "t1, t2, t3, t4 = 0.2,0.4,0.6,0.8"
   ]
  },
  {
   "cell_type": "markdown",
   "metadata": {},
   "source": [
    "## ANN(MLP)"
   ]
  },
  {
   "cell_type": "code",
   "execution_count": 4,
   "metadata": {
    "collapsed": false
   },
   "outputs": [
    {
     "name": "stdout",
     "output_type": "stream",
     "text": [
      "non-SMOTE------------------------\n",
      "Threshold   0.150\n",
      "Recall      0.997 +/- 0.005\n",
      "Precision   0.947 +/- 0.016\n",
      "FPR         7.596e-04 +/- 2.413e-04\n",
      "FNR         2.894e-03 +/- 4.624e-03\n",
      "SMOTE----------------------------\n",
      "Threshold   0.150\n",
      "Recall      0.999 +/- 0.003\n",
      "Precision   0.955 +/- 0.016\n",
      "FPR         6.381e-04 +/- 2.428e-04\n",
      "FNR         1.217e-03 +/- 3.159e-03\n"
     ]
    }
   ],
   "source": [
    "ThresholdAnalysis(0.15,nn_y,nn_prob,nn_sprob)"
   ]
  },
  {
   "cell_type": "code",
   "execution_count": 5,
   "metadata": {
    "collapsed": false
   },
   "outputs": [
    {
     "name": "stdout",
     "output_type": "stream",
     "text": [
      "non-SMOTE------------------------\n",
      "Threshold   0.700\n",
      "Recall      0.982 +/- 0.012\n",
      "Precision   0.974 +/- 0.011\n",
      "FPR         3.598e-04 +/- 1.525e-04\n",
      "FNR         1.820e-02 +/- 1.240e-02\n",
      "SMOTE----------------------------\n",
      "Threshold   0.700\n",
      "Recall      0.998 +/- 0.004\n",
      "Precision   0.964 +/- 0.013\n",
      "FPR         5.035e-04 +/- 1.910e-04\n",
      "FNR         2.182e-03 +/- 3.961e-03\n"
     ]
    }
   ],
   "source": [
    "ThresholdAnalysis(0.7,nn_y,nn_prob,nn_sprob)"
   ]
  },
  {
   "cell_type": "code",
   "execution_count": 6,
   "metadata": {
    "collapsed": false,
    "scrolled": true
   },
   "outputs": [
    {
     "name": "stdout",
     "output_type": "stream",
     "text": [
      "non-SMOTE------------------------\n",
      "Threshold   0.840\n",
      "Recall      0.949 +/- 0.026\n",
      "Precision   0.983 +/- 0.010\n",
      "FPR         2.253e-04 +/- 1.395e-04\n",
      "FNR         5.134e-02 +/- 2.584e-02\n",
      "SMOTE----------------------------\n",
      "Threshold   0.840\n",
      "Recall      0.997 +/- 0.005\n",
      "Precision   0.968 +/- 0.013\n",
      "FPR         4.545e-04 +/- 1.831e-04\n",
      "FNR         2.853e-03 +/- 4.632e-03\n"
     ]
    }
   ],
   "source": [
    "ThresholdAnalysis(0.84,nn_y,nn_prob,nn_sprob)"
   ]
  },
  {
   "cell_type": "code",
   "execution_count": 7,
   "metadata": {
    "collapsed": false
   },
   "outputs": [
    {
     "name": "stdout",
     "output_type": "stream",
     "text": [
      "non-SMOTE------------------------\n",
      "Threshold   0.985\n",
      "Recall      0.595 +/- 0.111\n",
      "Precision   0.998 +/- 0.004\n",
      "FPR         1.939e-05 +/- 3.802e-05\n",
      "FNR         4.050e-01 +/- 1.113e-01\n",
      "SMOTE----------------------------\n",
      "Threshold   0.985\n",
      "Recall      0.989 +/- 0.009\n",
      "Precision   0.982 +/- 0.009\n",
      "FPR         2.509e-04 +/- 1.315e-04\n",
      "FNR         1.099e-02 +/- 9.089e-03\n"
     ]
    }
   ],
   "source": [
    "ThresholdAnalysis(0.985,nn_y,nn_prob,nn_sprob)"
   ]
  },
  {
   "cell_type": "code",
   "execution_count": 8,
   "metadata": {
    "collapsed": false
   },
   "outputs": [
    {
     "name": "stderr",
     "output_type": "stream",
     "text": [
      "/home/shining/anaconda2/lib/python2.7/site-packages/sklearn/metrics/classification.py:1135: UndefinedMetricWarning: Precision is ill-defined and being set to 0.0 due to no predicted samples.\n",
      "  'precision', 'predicted', average, warn_for)\n"
     ]
    },
    {
     "name": "stdout",
     "output_type": "stream",
     "text": [
      "non-SMOTE------------------------\n",
      "Threshold   0.996\n",
      "Recall      0.353 +/- 0.138\n",
      "Precision   0.959 +/- 0.196\n",
      "FPR         4.562e-06 +/- 1.745e-05\n",
      "FNR         6.470e-01 +/- 1.379e-01\n",
      "SMOTE----------------------------\n",
      "Threshold   0.996\n",
      "Recall      0.952 +/- 0.026\n",
      "Precision   0.990 +/- 0.007\n",
      "FPR         1.346e-04 +/- 1.012e-04\n",
      "FNR         4.764e-02 +/- 2.575e-02\n"
     ]
    }
   ],
   "source": [
    "ThresholdAnalysis(0.996,nn_y,nn_prob,nn_sprob)"
   ]
  },
  {
   "cell_type": "markdown",
   "metadata": {},
   "source": [
    "## Adaboost"
   ]
  },
  {
   "cell_type": "code",
   "execution_count": 25,
   "metadata": {
    "collapsed": false
   },
   "outputs": [
    {
     "name": "stdout",
     "output_type": "stream",
     "text": [
      "non-SMOTE------------------------\n",
      "Threshold   0.310\n",
      "Recall      1.000 +/- 0.000\n",
      "Precision   0.342 +/- 0.060\n",
      "FPR         2.738e-02 +/- 6.847e-03\n",
      "FNR         0.000e+00 +/- 0.000e+00\n",
      "SMOTE----------------------------\n",
      "Threshold   0.310\n",
      "Recall      1.000 +/- 0.000\n",
      "Precision   0.239 +/- 0.041\n",
      "FPR         4.488e-02 +/- 9.057e-03\n",
      "FNR         0.000e+00 +/- 0.000e+00\n"
     ]
    }
   ],
   "source": [
    "ThresholdAnalysis(.31,ada_y,ada_prob,ada_sprob)"
   ]
  },
  {
   "cell_type": "code",
   "execution_count": 10,
   "metadata": {
    "collapsed": false
   },
   "outputs": [
    {
     "name": "stdout",
     "output_type": "stream",
     "text": [
      "non-SMOTE------------------------\n",
      "Threshold   0.520\n",
      "Recall      0.988 +/- 0.009\n",
      "Precision   0.990 +/- 0.006\n",
      "FPR         1.380e-04 +/- 8.580e-05\n",
      "FNR         1.154e-02 +/- 8.709e-03\n",
      "SMOTE----------------------------\n",
      "Threshold   0.520\n",
      "Recall      0.997 +/- 0.004\n",
      "Precision   0.982 +/- 0.009\n",
      "FPR         2.566e-04 +/- 1.206e-04\n",
      "FNR         2.897e-03 +/- 3.971e-03\n"
     ]
    }
   ],
   "source": [
    "ThresholdAnalysis(0.52,ada_y,ada_prob,ada_sprob)"
   ]
  },
  {
   "cell_type": "code",
   "execution_count": 11,
   "metadata": {
    "collapsed": false
   },
   "outputs": [
    {
     "name": "stdout",
     "output_type": "stream",
     "text": [
      "non-SMOTE------------------------\n",
      "Threshold   0.540\n",
      "Recall      0.947 +/- 0.018\n",
      "Precision   0.994 +/- 0.006\n",
      "FPR         7.927e-05 +/- 7.518e-05\n",
      "FNR         5.302e-02 +/- 1.801e-02\n",
      "SMOTE----------------------------\n",
      "Threshold   0.540\n",
      "Recall      0.995 +/- 0.005\n",
      "Precision   0.986 +/- 0.008\n",
      "FPR         1.990e-04 +/- 1.053e-04\n",
      "FNR         4.910e-03 +/- 4.639e-03\n"
     ]
    }
   ],
   "source": [
    "ThresholdAnalysis(0.54,ada_y,ada_prob,ada_sprob)"
   ]
  },
  {
   "cell_type": "code",
   "execution_count": 12,
   "metadata": {
    "collapsed": false
   },
   "outputs": [
    {
     "name": "stdout",
     "output_type": "stream",
     "text": [
      "non-SMOTE------------------------\n",
      "Threshold   0.570\n",
      "Recall      0.696 +/- 0.073\n",
      "Precision   0.998 +/- 0.004\n",
      "FPR         2.452e-05 +/- 5.053e-05\n",
      "FNR         3.035e-01 +/- 7.323e-02\n",
      "SMOTE----------------------------\n",
      "Threshold   0.570\n",
      "Recall      0.981 +/- 0.012\n",
      "Precision   0.991 +/- 0.006\n",
      "FPR         1.249e-04 +/- 8.523e-05\n",
      "FNR         1.863e-02 +/- 1.151e-02\n"
     ]
    }
   ],
   "source": [
    "ThresholdAnalysis(0.57,ada_y,ada_prob,ada_sprob)"
   ]
  },
  {
   "cell_type": "code",
   "execution_count": 13,
   "metadata": {
    "collapsed": false
   },
   "outputs": [
    {
     "name": "stdout",
     "output_type": "stream",
     "text": [
      "non-SMOTE------------------------\n",
      "Threshold   0.582\n",
      "Recall      0.544 +/- 0.088\n",
      "Precision   0.998 +/- 0.004\n",
      "FPR         1.939e-05 +/- 4.050e-05\n",
      "FNR         4.559e-01 +/- 8.836e-02\n",
      "SMOTE----------------------------\n",
      "Threshold   0.582\n",
      "Recall      0.948 +/- 0.020\n",
      "Precision   0.994 +/- 0.006\n",
      "FPR         7.585e-05 +/- 7.481e-05\n",
      "FNR         5.172e-02 +/- 1.981e-02\n"
     ]
    }
   ],
   "source": [
    "ThresholdAnalysis(0.582,ada_y,ada_prob,ada_sprob)"
   ]
  },
  {
   "cell_type": "markdown",
   "metadata": {},
   "source": [
    "## Gradient Boosting Classifier"
   ]
  },
  {
   "cell_type": "code",
   "execution_count": 23,
   "metadata": {
    "collapsed": false
   },
   "outputs": [
    {
     "name": "stdout",
     "output_type": "stream",
     "text": [
      "non-SMOTE------------------------\n",
      "Threshold   0.500\n",
      "Recall      0.995 +/- 0.004\n",
      "Precision   0.988 +/- 0.006\n",
      "FPR         1.625e-04 +/- 8.357e-05\n",
      "FNR         4.698e-03 +/- 4.488e-03\n",
      "SMOTE----------------------------\n",
      "Threshold   0.500\n",
      "Recall      0.995 +/- 0.005\n",
      "Precision   0.985 +/- 0.010\n",
      "FPR         2.042e-04 +/- 1.400e-04\n",
      "FNR         4.781e-03 +/- 5.271e-03\n"
     ]
    }
   ],
   "source": [
    "ThresholdAnalysis(0.5,gbc_y,gbc_prob,gbc_sprob)"
   ]
  },
  {
   "cell_type": "code",
   "execution_count": 25,
   "metadata": {
    "collapsed": false
   },
   "outputs": [
    {
     "name": "stdout",
     "output_type": "stream",
     "text": [
      "non-SMOTE------------------------\n",
      "Threshold   0.991\n",
      "Recall      0.980 +/- 0.011\n",
      "Precision   0.992 +/- 0.005\n",
      "FPR         1.021e-04 +/- 7.136e-05\n",
      "FNR         2.030e-02 +/- 1.108e-02\n",
      "SMOTE----------------------------\n",
      "Threshold   0.991\n",
      "Recall      0.993 +/- 0.006\n",
      "Precision   0.988 +/- 0.010\n",
      "FPR         1.677e-04 +/- 1.420e-04\n",
      "FNR         6.921e-03 +/- 6.090e-03\n"
     ]
    }
   ],
   "source": [
    "ThresholdAnalysis(0.991,gbc_y,gbc_prob,gbc_sprob)"
   ]
  },
  {
   "cell_type": "code",
   "execution_count": 34,
   "metadata": {
    "collapsed": false
   },
   "outputs": [
    {
     "name": "stdout",
     "output_type": "stream",
     "text": [
      "non-SMOTE------------------------\n",
      "Threshold   0.997\n",
      "Recall      0.953 +/- 0.016\n",
      "Precision   0.994 +/- 0.005\n",
      "FPR         7.870e-05 +/- 6.390e-05\n",
      "FNR         4.665e-02 +/- 1.579e-02\n",
      "SMOTE----------------------------\n",
      "Threshold   0.997\n",
      "Recall      0.992 +/- 0.006\n",
      "Precision   0.988 +/- 0.010\n",
      "FPR         1.620e-04 +/- 1.415e-04\n",
      "FNR         7.760e-03 +/- 6.344e-03\n"
     ]
    }
   ],
   "source": [
    "ThresholdAnalysis(0.9972,gbc_y,gbc_prob,gbc_sprob)"
   ]
  },
  {
   "cell_type": "code",
   "execution_count": 43,
   "metadata": {
    "collapsed": false
   },
   "outputs": [
    {
     "name": "stdout",
     "output_type": "stream",
     "text": [
      "non-SMOTE------------------------\n",
      "Threshold   1.000\n",
      "Recall      0.592 +/- 0.064\n",
      "Precision   0.998 +/- 0.004\n",
      "FPR         2.053e-05 +/- 2.965e-05\n",
      "FNR         4.077e-01 +/- 6.385e-02\n",
      "SMOTE----------------------------\n",
      "Threshold   1.000\n",
      "Recall      0.981 +/- 0.016\n",
      "Precision   0.990 +/- 0.010\n",
      "FPR         1.420e-04 +/- 1.360e-04\n",
      "FNR         1.926e-02 +/- 1.617e-02\n"
     ]
    }
   ],
   "source": [
    "ThresholdAnalysis(0.9998,gbc_y,gbc_prob,gbc_sprob)"
   ]
  },
  {
   "cell_type": "code",
   "execution_count": 57,
   "metadata": {
    "collapsed": false
   },
   "outputs": [
    {
     "name": "stdout",
     "output_type": "stream",
     "text": [
      "non-SMOTE------------------------\n",
      "Threshold   1.000\n",
      "Recall      0.248 +/- 0.130\n",
      "Precision   0.918 +/- 0.271\n",
      "FPR         9.695e-06 +/- 2.289e-05\n",
      "FNR         7.521e-01 +/- 1.296e-01\n",
      "SMOTE----------------------------\n",
      "Threshold   1.000\n",
      "Recall      0.949 +/- 0.092\n",
      "Precision   0.990 +/- 0.010\n",
      "FPR         1.317e-04 +/- 1.310e-04\n",
      "FNR         5.082e-02 +/- 9.239e-02\n"
     ]
    }
   ],
   "source": [
    "ThresholdAnalysis(0.99992,gbc_y,gbc_prob,gbc_sprob)"
   ]
  },
  {
   "cell_type": "markdown",
   "metadata": {},
   "source": [
    "## XGBoost"
   ]
  },
  {
   "cell_type": "code",
   "execution_count": 21,
   "metadata": {
    "collapsed": false
   },
   "outputs": [
    {
     "name": "stdout",
     "output_type": "stream",
     "text": [
      "non-SMOTE------------------------\n",
      "Threshold   0.310\n",
      "Recall      0.998 +/- 0.003\n",
      "Precision   0.968 +/- 0.011\n",
      "FPR         4.551e-04 +/- 1.537e-04\n",
      "FNR         1.846e-03 +/- 2.674e-03\n",
      "SMOTE----------------------------\n",
      "Threshold   0.310\n",
      "Recall      0.998 +/- 0.003\n",
      "Precision   0.938 +/- 0.014\n",
      "FPR         8.976e-04 +/- 2.246e-04\n",
      "FNR         1.594e-03 +/- 2.570e-03\n"
     ]
    }
   ],
   "source": [
    "ThresholdAnalysis(0.31,xgb_y,xgb_prob,xgb_sprob)"
   ]
  },
  {
   "cell_type": "code",
   "execution_count": 96,
   "metadata": {
    "collapsed": false,
    "scrolled": true
   },
   "outputs": [
    {
     "name": "stdout",
     "output_type": "stream",
     "text": [
      "non-SMOTE------------------------\n",
      "Threshold   0.688\n",
      "Recall      0.986 +/- 0.010\n",
      "Precision   0.988 +/- 0.006\n",
      "FPR         1.671e-04 +/- 8.507e-05\n",
      "FNR         1.443e-02 +/- 9.755e-03\n",
      "SMOTE----------------------------\n",
      "Threshold   0.688\n",
      "Recall      0.997 +/- 0.004\n",
      "Precision   0.974 +/- 0.008\n",
      "FPR         3.576e-04 +/- 1.196e-04\n",
      "FNR         3.021e-03 +/- 4.199e-03\n"
     ]
    }
   ],
   "source": [
    "ThresholdAnalysis(0.6877,xgb_y,xgb_prob,xgb_sprob)"
   ]
  },
  {
   "cell_type": "code",
   "execution_count": 206,
   "metadata": {
    "collapsed": false
   },
   "outputs": [
    {
     "name": "stdout",
     "output_type": "stream",
     "text": [
      "non-SMOTE------------------------\n",
      "Threshold   0.688\n",
      "Recall      0.956 +/- 0.168\n",
      "Precision   0.958 +/- 0.169\n",
      "FPR         1.659e-04 +/- 8.690e-05\n",
      "FNR         4.422e-02 +/- 1.684e-01\n",
      "SMOTE----------------------------\n",
      "Threshold   0.688\n",
      "Recall      0.997 +/- 0.004\n",
      "Precision   0.974 +/- 0.008\n",
      "FPR         3.576e-04 +/- 1.196e-04\n",
      "FNR         3.021e-03 +/- 4.199e-03\n"
     ]
    }
   ],
   "source": [
    "ThresholdAnalysis(0.6881,xgb_y,xgb_prob,xgb_sprob)"
   ]
  },
  {
   "cell_type": "code",
   "execution_count": 154,
   "metadata": {
    "collapsed": false
   },
   "outputs": [
    {
     "name": "stdout",
     "output_type": "stream",
     "text": [
      "non-SMOTE------------------------\n",
      "Threshold   0.697\n",
      "Recall      0.000 +/- 0.000\n",
      "Precision   0.000 +/- 0.000\n",
      "FPR         0.000e+00 +/- 0.000e+00\n",
      "FNR         1.000e+00 +/- 0.000e+00\n",
      "SMOTE----------------------------\n",
      "Threshold   0.697\n",
      "Recall      0.987 +/- 0.099\n",
      "Precision   0.964 +/- 0.097\n",
      "FPR         3.564e-04 +/- 1.224e-04\n",
      "FNR         1.306e-02 +/- 9.928e-02\n"
     ]
    }
   ],
   "source": [
    "ThresholdAnalysis(0.6966125,xgb_y,xgb_prob,xgb_sprob)"
   ]
  },
  {
   "cell_type": "code",
   "execution_count": 200,
   "metadata": {
    "collapsed": false
   },
   "outputs": [
    {
     "name": "stdout",
     "output_type": "stream",
     "text": [
      "non-SMOTE------------------------\n",
      "Threshold   0.697\n",
      "Recall      0.000 +/- 0.000\n",
      "Precision   0.000 +/- 0.000\n",
      "FPR         0.000e+00 +/- 0.000e+00\n",
      "FNR         1.000e+00 +/- 0.000e+00\n",
      "SMOTE----------------------------\n",
      "Threshold   0.697\n",
      "Recall      0.927 +/- 0.254\n",
      "Precision   0.905 +/- 0.248\n",
      "FPR         3.462e-04 +/- 1.430e-04\n",
      "FNR         7.294e-02 +/- 2.544e-01\n"
     ]
    }
   ],
   "source": [
    "ThresholdAnalysis(0.696613226,xgb_y,xgb_prob,xgb_sprob)"
   ]
  }
 ],
 "metadata": {
  "kernelspec": {
   "display_name": "Python 2",
   "language": "python",
   "name": "python2"
  },
  "language_info": {
   "codemirror_mode": {
    "name": "ipython",
    "version": 2
   },
   "file_extension": ".py",
   "mimetype": "text/x-python",
   "name": "python",
   "nbconvert_exporter": "python",
   "pygments_lexer": "ipython2",
   "version": "2.7.13"
  }
 },
 "nbformat": 4,
 "nbformat_minor": 2
}
