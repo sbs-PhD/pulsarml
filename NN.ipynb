{
 "cells": [
  {
   "cell_type": "code",
   "execution_count": 1,
   "metadata": {
    "collapsed": false
   },
   "outputs": [
    {
     "name": "stderr",
     "output_type": "stream",
     "text": [
      "/home/shining/anaconda2/lib/python2.7/site-packages/theano/tensor/signal/downsample.py:6: UserWarning: downsample module has been moved to the theano.tensor.signal.pool module.\n",
      "  \"downsample module has been moved to the theano.tensor.signal.pool module.\")\n",
      "/home/shining/anaconda2/lib/python2.7/site-packages/sklearn/cross_validation.py:41: DeprecationWarning: This module was deprecated in version 0.18 in favor of the model_selection module into which all the refactored classes and functions are moved. Also note that the interface of the new CV iterators are different from that of this module. This module will be removed in 0.20.\n",
      "  \"This module will be removed in 0.20.\", DeprecationWarning)\n"
     ]
    }
   ],
   "source": [
    "import numpy as np\n",
    "import pandas as pd\n",
    "import matplotlib.pyplot as plt\n",
    "from lasagne import layers as lasagne, nonlinearities as nl\n",
    "from sknn.mlp import Classifier, Layer, Native\n",
    "from pcfm import plot_confusion_matrix\n",
    "from pfimp import plot_feature_importance\n",
    "from sklearn.model_selection import StratifiedKFold\n",
    "from sklearn.metrics import *\n",
    "from imblearn.over_sampling import SMOTE\n",
    "from pauroc import cal_auroc"
   ]
  },
  {
   "cell_type": "code",
   "execution_count": 2,
   "metadata": {
    "collapsed": true
   },
   "outputs": [],
   "source": [
    "df = pd.read_csv('all_in_one.csv')\n",
    "df = pd.DataFrame.as_matrix(df)\n",
    "# It seems there are NaNs in the dataset.. \n",
    "# And all of them are in column 3. The one with log(.)\n",
    "df = df[~np.isnan(df).any(axis=1)]\n",
    "X = df[:,0:6] # Our feature matrix\n",
    "y = np.array(df[:,-1],dtype=np.int) # Our truth labels\n",
    "idx = np.array(df[:,6],dtype=np.int) # our ID\n",
    "clname = ['RFI','PULSAR']\n",
    "# Whitening\n",
    "X -= np.mean(X,axis=0)\n",
    "X /= np.std(X,axis=0)"
   ]
  },
  {
   "cell_type": "code",
   "execution_count": 16,
   "metadata": {
    "collapsed": true
   },
   "outputs": [],
   "source": [
    "num_iterations = 1\n",
    "k_fold = 5\n",
    "smote = SMOTE(ratio=1.0)\n",
    "# Hyper parameters\n",
    "nnlayers = [Native(lasagne.DenseLayer, num_units=6, nonlinearity=nl.leaky_rectify),Native(lasagne.DenseLayer, num_units=6, nonlinearity=nl.leaky_rectify),Native(lasagne.DenseLayer, num_units=4, nonlinearity=nl.leaky_rectify),Layer('Softmax')]"
   ]
  },
  {
   "cell_type": "markdown",
   "metadata": {},
   "source": [
    "## Neural Network"
   ]
  },
  {
   "cell_type": "code",
   "execution_count": 17,
   "metadata": {
    "collapsed": true
   },
   "outputs": [],
   "source": [
    "kf = StratifiedKFold(k_fold,shuffle=True)\n",
    "## Ytest\n",
    "mega_ytest = []\n",
    "## NON-SMOTE\n",
    "fimp  = [] # feature importances\n",
    "prob  = [] # probability \n",
    "metrc = [] # recall scores\n",
    "metpr = [] # precision scores\n",
    "metll = [] # log-loss \n",
    "metac = [] # accuracy\n",
    "metf1 = [] # F1-score\n",
    "metmc = [] # Matthews correlation coefficient\n",
    "metgm = [] # G-Mean\n",
    "metcm = [] # Confusion matrix\n",
    "metfp = [] # FPR\n",
    "## SMOTE\n",
    "sfimp  = [] # feature importances\n",
    "sprob  = [] # probability\n",
    "smetrc = [] # recall scores\n",
    "smetpr = [] # precision scores\n",
    "smetll = [] # log-loss \n",
    "smetac = [] # accuracy\n",
    "smetf1 = [] # F1-score\n",
    "smetmc = [] # Matthews correlation coefficient\n",
    "smetgm = [] # G-Mean\n",
    "smetcm = [] # Confusion matrix\n",
    "smetfp = [] # FPR"
   ]
  },
  {
   "cell_type": "code",
   "execution_count": 18,
   "metadata": {
    "collapsed": false,
    "scrolled": true
   },
   "outputs": [
    {
     "name": "stdout",
     "output_type": "stream",
     "text": [
      "[ 0 ] Iteration...Starting\n",
      "[(17775, 2)]\n",
      "[(17775, 2)]\n",
      "[(17775, 2)]\n",
      "[(17775, 2)]\n",
      "[(17775, 2)]\n",
      "[(17775, 2)]\n",
      "[(17775, 2)]\n",
      "[(17775, 2)]\n",
      "[(17774, 2)]\n",
      "[(17774, 2)]\n",
      "[(17774, 2)]\n",
      "[(17774, 2)]\n",
      "[(17774, 2)]\n",
      "[(17774, 2)]\n",
      "[(17774, 2)]\n",
      "[(17774, 2)]\n",
      "[(17774, 2)]\n",
      "[(17774, 2)]\n",
      "[(17774, 2)]\n",
      "[(17774, 2)]\n"
     ]
    }
   ],
   "source": [
    "for rc in xrange(num_iterations):\n",
    "    print \"[\",rc,'] Iteration...Starting'\n",
    "    for tr,te in kf.split(X,y):\n",
    "        xtrain, xtest = X[tr], X[te]\n",
    "        ytrain, ytest = y[tr], y[te]\n",
    "        sxtrain, sytrain = smote.fit_sample(xtrain,ytrain)\n",
    "        ##\n",
    "        nn = Classifier(layers=nnlayers,learning_rule='adam',batch_size=32,\n",
    "                        n_iter=750,valid_size=0.2,learning_rate=1e-3,n_stable=50)\n",
    "        snn = Classifier(layers=nnlayers,learning_rule='adam',batch_size=32,\n",
    "                        n_iter=750,valid_size=0.2,learning_rate=1e-3,n_stable=50)\n",
    "        nn.fit(xtrain,ytrain)\n",
    "        snn.fit(sxtrain, sytrain)\n",
    "        ##\n",
    "        ypredict = nn.predict(xtest)\n",
    "        sypredict = snn.predict(xtest)\n",
    "        ## NON-SMOTE\n",
    "        prob.append(nn.predict_proba(xtest))\n",
    "        metrc.append(recall_score(ytest,ypredict))\n",
    "        metpr.append(precision_score(ytest,ypredict))\n",
    "        metac.append(accuracy_score(ytest,ypredict))\n",
    "        metf1.append(f1_score(ytest,ypredict))\n",
    "        metll.append(log_loss(ytest,ypredict))\n",
    "        metmc.append(matthews_corrcoef(ytest,ypredict))\n",
    "        cmyy = confusion_matrix(ytest,ypredict)\n",
    "        metcm.append(cmyy)\n",
    "        specificity = (1.*cmyy[0,0])/(cmyy[0,0] + cmyy[0,1])\n",
    "        metgm.append(np.sqrt(recall_score(ytest,ypredict)*specificity))\n",
    "        metfp.append(1.*cmyy[0,1]/(cmyy[0,0]+cmyy[0,1]))\n",
    "        ## SMOTE\n",
    "        sprob.append(snn.predict_proba(xtest))\n",
    "        smetrc.append(recall_score(ytest,sypredict))\n",
    "        smetpr.append(precision_score(ytest,sypredict))\n",
    "        smetac.append(accuracy_score(ytest,sypredict))\n",
    "        smetf1.append(f1_score(ytest,sypredict))\n",
    "        smetll.append(log_loss(ytest,sypredict))\n",
    "        smetmc.append(matthews_corrcoef(ytest,sypredict))\n",
    "        scmyy = confusion_matrix(ytest,sypredict)\n",
    "        smetcm.append(scmyy)\n",
    "        sspecificity = (1.*scmyy[0,0])/(scmyy[0,0] + scmyy[0,1])\n",
    "        smetgm.append(np.sqrt(recall_score(ytest,sypredict)*sspecificity))\n",
    "        smetfp.append(1.*scmyy[0,1]/(scmyy[0,0]+scmyy[0,1]))\n",
    "        ##\n",
    "        mega_ytest.append(ytest)"
   ]
  },
  {
   "cell_type": "code",
   "execution_count": 6,
   "metadata": {
    "collapsed": false
   },
   "outputs": [
    {
     "name": "stdout",
     "output_type": "stream",
     "text": [
      "The recall score is    0.9915 +/- 0.007\n",
      "The precision score is 0.9644 +/- 0.012\n",
      "The accuracy is        0.9994 +/- 0.000\n",
      "The f1 score is        0.9777 +/- 0.007\n",
      "The logloss score is   0.0210 +/- 0.006\n",
      "The MCC is             0.9775 +/- 0.007\n",
      "The G-Mean is          0.9955 +/- 0.004\n",
      "The FPR is             5.0011e-04 +/- 1.7200e-04\n"
     ]
    }
   ],
   "source": [
    "print \"The recall score is    {0:0.4f} +/- {1:2.3f}\".format(np.mean(metrc),np.std(metrc))\n",
    "print \"The precision score is {0:0.4f} +/- {1:2.3f}\".format(np.mean(metpr),np.std(metpr))\n",
    "print \"The accuracy is        {0:0.4f} +/- {1:2.3f}\".format(np.mean(metac),np.std(metac))\n",
    "print \"The f1 score is        {0:0.4f} +/- {1:2.3f}\".format(np.mean(metf1),np.std(metf1))\n",
    "print \"The logloss score is   {0:0.4f} +/- {1:2.3f}\".format(np.mean(metll),np.std(metll))\n",
    "print \"The MCC is             {0:0.4f} +/- {1:2.3f}\".format(np.mean(metmc),np.std(metmc))\n",
    "print \"The G-Mean is          {0:0.4f} +/- {1:2.3f}\".format(np.mean(metgm),np.std(metgm))\n",
    "print \"The FPR is             {0:2.4e} +/- {1:1.4e}\".format(np.mean(metfp),np.std(metfp))"
   ]
  },
  {
   "cell_type": "code",
   "execution_count": 7,
   "metadata": {
    "collapsed": false
   },
   "outputs": [
    {
     "name": "stdout",
     "output_type": "stream",
     "text": [
      "The recall score is    0.9985 +/- 0.003\n",
      "The precision score is 0.9597 +/- 0.014\n",
      "The accuracy is        0.9994 +/- 0.000\n",
      "The f1 score is        0.9787 +/- 0.007\n",
      "The logloss score is   0.0202 +/- 0.007\n",
      "The MCC is             0.9786 +/- 0.007\n",
      "The G-Mean is          0.9990 +/- 0.001\n",
      "The FPR is             5.7254e-04 +/- 2.0512e-04\n"
     ]
    }
   ],
   "source": [
    "print \"The recall score is    {0:0.4f} +/- {1:2.3f}\".format(np.mean(smetrc),np.std(smetrc))\n",
    "print \"The precision score is {0:0.4f} +/- {1:2.3f}\".format(np.mean(smetpr),np.std(smetpr))\n",
    "print \"The accuracy is        {0:0.4f} +/- {1:2.3f}\".format(np.mean(smetac),np.std(smetac))\n",
    "print \"The f1 score is        {0:0.4f} +/- {1:2.3f}\".format(np.mean(smetf1),np.std(smetf1))\n",
    "print \"The logloss score is   {0:0.4f} +/- {1:2.3f}\".format(np.mean(smetll),np.std(smetll))\n",
    "print \"The MCC is             {0:0.4f} +/- {1:2.3f}\".format(np.mean(smetmc),np.std(smetmc))\n",
    "print \"The G-Mean is          {0:0.4f} +/- {1:2.3f}\".format(np.mean(smetgm),np.std(smetgm))\n",
    "print \"The FPR is             {0:2.4e} +/- {1:1.4e}\".format(np.mean(smetfp),np.std(smetfp))"
   ]
  },
  {
   "cell_type": "code",
   "execution_count": 8,
   "metadata": {
    "collapsed": false
   },
   "outputs": [
    {
     "data": {
      "image/png": "[encoded data removed]",
      "text/plain": [
       "<matplotlib.figure.Figure at 0x7f19a72766d0>"
      ]
     },
     "metadata": {},
     "output_type": "display_data"
    }
   ],
   "source": [
    "plot_confusion_matrix(np.mean(metcm,axis=0),clname,cmap=plt.cm.RdPu,title='NN(Non-SMOTE)',colmap=True)\n",
    "plt.show()"
   ]
  },
  {
   "cell_type": "code",
   "execution_count": 9,
   "metadata": {
    "collapsed": false
   },
   "outputs": [
    {
     "data": {
      "image/png": "[encoded data removed]",
      "text/plain": [
       "<matplotlib.figure.Figure at 0x7f19b01d2290>"
      ]
     },
     "metadata": {},
     "output_type": "display_data"
    }
   ],
   "source": [
    "plot_confusion_matrix(np.mean(smetcm,axis=0),clname,cmap=plt.cm.RdPu,title='NN(SMOTE)',colmap=True)\n",
    "plt.show()"
   ]
  },
  {
   "cell_type": "code",
   "execution_count": 10,
   "metadata": {
    "collapsed": false
   },
   "outputs": [
    {
     "data": {
      "text/plain": [
       "(17774, 17774, 17774)"
      ]
     },
     "execution_count": 10,
     "metadata": {},
     "output_type": "execute_result"
    }
   ],
   "source": [
    "np.min([x.shape[0] for x in prob]), np.min([x.shape[0] for x in sprob]), np.min([x.shape[0] for x in mega_ytest])"
   ]
  },
  {
   "cell_type": "code",
   "execution_count": 11,
   "metadata": {
    "collapsed": true
   },
   "outputs": [],
   "source": [
    "hprob = np.array([x[:17774] for x in prob]) \n",
    "hsprob = np.array([x[:17774] for x in sprob])\n",
    "hmega = np.array([x[:17774] for x in mega_ytest])"
   ]
  },
  {
   "cell_type": "code",
   "execution_count": 12,
   "metadata": {
    "collapsed": false
   },
   "outputs": [
    {
     "data": {
      "text/plain": [
       "((100, 17774, 2), (100, 17774, 2), (100, 17774))"
      ]
     },
     "execution_count": 12,
     "metadata": {},
     "output_type": "execute_result"
    }
   ],
   "source": [
    "hprob.shape, hsprob.shape, hmega.shape"
   ]
  },
  {
   "cell_type": "code",
   "execution_count": 13,
   "metadata": {
    "collapsed": true
   },
   "outputs": [],
   "source": [
    "ret = cal_auroc(hmega,hprob,hsprob)"
   ]
  },
  {
   "cell_type": "code",
   "execution_count": 14,
   "metadata": {
    "collapsed": false
   },
   "outputs": [
    {
     "name": "stdout",
     "output_type": "stream",
     "text": [
      "Non-SMOTE Mean AuROC 0.9949 +/- 0.00003\n",
      "SMOTE Mean AuROC     0.9949 +/- 0.00002\n"
     ]
    }
   ],
   "source": [
    "print \"Non-SMOTE Mean AuROC {0:0.4f} +/- {1:2.5f}\".format(ret['non_smote_auc'][0],ret['non_smote_auc'][1])\n",
    "print \"SMOTE Mean AuROC     {0:0.4f} +/- {1:2.5f}\".format(ret['smote_auc'][0],ret['smote_auc'][1])"
   ]
  },
  {
   "cell_type": "code",
   "execution_count": 15,
   "metadata": {
    "collapsed": false
   },
   "outputs": [],
   "source": [
    "import pickle\n",
    "with open('nn_data.dat','wb') as f:\n",
    "    pickle.dump([hmega,hprob,hsprob],f)"
   ]
  }
 ],
 "metadata": {
  "kernelspec": {
   "display_name": "Python 2",
   "language": "python",
   "name": "python2"
  },
  "language_info": {
   "codemirror_mode": {
    "name": "ipython",
    "version": 2
   },
   "file_extension": ".py",
   "mimetype": "text/x-python",
   "name": "python",
   "nbconvert_exporter": "python",
   "pygments_lexer": "ipython2",
   "version": "2.7.13"
  }
 },
 "nbformat": 4,
 "nbformat_minor": 2
}
