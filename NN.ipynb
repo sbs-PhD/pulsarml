{
 "cells": [
  {
   "cell_type": "markdown",
   "metadata": {},
   "source": [
    "# Running NN on the dataset."
   ]
  },
  {
   "cell_type": "code",
   "execution_count": 1,
   "metadata": {
    "collapsed": false
   },
   "outputs": [
    {
     "name": "stderr",
     "output_type": "stream",
     "text": [
      "/home/shining/anaconda2/lib/python2.7/site-packages/sklearn/cross_validation.py:44: DeprecationWarning: This module was deprecated in version 0.18 in favor of the model_selection module into which all the refactored classes and functions are moved. Also note that the interface of the new CV iterators are different from that of this module. This module will be removed in 0.20.\n",
      "  \"This module will be removed in 0.20.\", DeprecationWarning)\n"
     ]
    }
   ],
   "source": [
    "import numpy as np\n",
    "import pandas as pd\n",
    "import matplotlib.pyplot as plt\n",
    "from sknn.mlp import Classifier, Layer\n",
    "from sklearn.metrics import confusion_matrix\n",
    "from pcfm import plot_confusion_matrix\n",
    "from pfimp import plot_feature_importance\n",
    "from sklearn.model_selection import StratifiedKFold\n",
    "from threeinone import cfm3in1, fimp3in1\n",
    "from fpr_area import givemis,areas,erts_plot,thres"
   ]
  },
  {
   "cell_type": "code",
   "execution_count": 2,
   "metadata": {
    "collapsed": true
   },
   "outputs": [],
   "source": [
    "df = pd.read_csv('all_in_one.csv')\n",
    "df = pd.DataFrame.as_matrix(df)\n",
    "# It seems there are NaNs in the dataset.. \n",
    "# And all of them are in column 3. The one with log(.)\n",
    "df = df[~np.isnan(df).any(axis=1)]\n",
    "X = df[:,0:6] # Our feature matrix\n",
    "y = np.array(df[:,-1],dtype=np.int) # Our truth labels\n",
    "idx = np.array(df[:,6],dtype=np.int) # our ID\n",
    "clname = ['RFI','PULSAR']\n",
    "np.set_printoptions(precision=2)\n",
    "# Mean centering\n",
    "X -= X.mean(0)"
   ]
  },
  {
   "cell_type": "code",
   "execution_count": 25,
   "metadata": {
    "collapsed": false
   },
   "outputs": [
    {
     "data": {
      "text/plain": [
       "(array([0, 1]), array([87680,  1192]))"
      ]
     },
     "execution_count": 25,
     "metadata": {},
     "output_type": "execute_result"
    }
   ],
   "source": [
    "np.unique(y,return_counts=True)"
   ]
  },
  {
   "cell_type": "markdown",
   "metadata": {},
   "source": [
    "## No oversampling"
   ]
  },
  {
   "cell_type": "code",
   "execution_count": 18,
   "metadata": {
    "collapsed": true
   },
   "outputs": [],
   "source": [
    "kf = StratifiedKFold(3,shuffle=True,random_state=340)\n",
    "conf_mats = [] # list to hold the confusion matrices\n",
    "predprobs = [] # predicted probabilities"
   ]
  },
  {
   "cell_type": "code",
   "execution_count": 19,
   "metadata": {
    "collapsed": true
   },
   "outputs": [],
   "source": [
    "# Hyperparameters\n",
    "smnnlayer = [Layer(\"Rectifier\",units=6,weight_decay=1e-6),Layer(\"Rectifier\",units=4,weight_decay=1e-3,dropout=.3)]\n",
    "smnnlayer.append(Layer('Softmax'))\n",
    "nnlayer = [Layer(\"Rectifier\",units=8,weight_decay=1e-3,dropout=.4)]\n",
    "nnlayer.append(Layer('Softmax'))\n",
    "k_fold = 3"
   ]
  },
  {
   "cell_type": "code",
   "execution_count": 20,
   "metadata": {
    "collapsed": false
   },
   "outputs": [
    {
     "name": "stdout",
     "output_type": "stream",
     "text": [
      "[ 0 ] Iteration...Starting\n",
      "[``] Fitting\n",
      "[(29625, 2)]\n",
      "[(29625, 2)]\n",
      "[ 0 ] Iteration...Done\n",
      "[ 1 ] Iteration...Starting\n",
      "[``] Fitting\n",
      "[(29624, 2)]\n",
      "[(29624, 2)]\n",
      "[ 1 ] Iteration...Done\n",
      "[ 2 ] Iteration...Starting\n",
      "[``] Fitting\n",
      "[(29623, 2)]\n",
      "[(29623, 2)]\n",
      "[ 2 ] Iteration...Done\n"
     ]
    }
   ],
   "source": [
    "rc = 0\n",
    "plt.figure()\n",
    "for tr,te in kf.split(X,y):\n",
    "     print \"[\",rc,'] Iteration...Starting'\n",
    "     xtrain, xtest = X[tr],X[te]\n",
    "     ytrain, ytest = y[tr],y[te]\n",
    "     nn = Classifier(layers=nnlayer,learning_rule='adam',batch_size=256,valid_size=0.2,random_state=1234)\n",
    "     print \"[``] Fitting\"\n",
    "     nn.fit(xtrain,ytrain) # My fitting\n",
    "     ypredict = nn.predict(xtest)\n",
    "     conf_mats.append(confusion_matrix(ytest,ypredict))\n",
    "     ypp = nn.predict_proba(xtest)\n",
    "     tdf = np.column_stack((ytest,ypredict,ypp[:,0],ypp[:,1]))\n",
    "     if rc == 0:\n",
    "        outdf = tdf\n",
    "     else:\n",
    "        outdf = np.concatenate((outdf,tdf),axis=0)\n",
    "     print \"[\",rc,'] Iteration...Done'\n",
    "     rc = rc + 1"
   ]
  },
  {
   "cell_type": "code",
   "execution_count": 21,
   "metadata": {
    "collapsed": false
   },
   "outputs": [
    {
     "data": {
      "text/plain": [
       "<matplotlib.figure.Figure at 0x7f414deca6d0>"
      ]
     },
     "metadata": {},
     "output_type": "display_data"
    },
    {
     "data": {
      "image/png": "[encoded data removed]",
      "text/plain": [
       "<matplotlib.figure.Figure at 0x7f414dfd9050>"
      ]
     },
     "metadata": {},
     "output_type": "display_data"
    }
   ],
   "source": [
    "cfm3in1(conf_mats,clname)\n",
    "plt.show()"
   ]
  },
  {
   "cell_type": "markdown",
   "metadata": {},
   "source": [
    "## SMOTE\n",
    "SMOTE is a way to learn imbalanced or highly skewed datasets. \n",
    "We specify a ratio of minority samples(pulsars) and majority samples(RFIs) and SMOTE using K-means and interpolation, generates new samples of the minority class until the desired ratio is achieved. \n",
    "\n",
    "After getting sX,sy afterever follows is the same. Fitting and plotting just with a minor change that I've prepended 'sm' to each variable to differentiate."
   ]
  },
  {
   "cell_type": "code",
   "execution_count": 7,
   "metadata": {
    "collapsed": true
   },
   "outputs": [],
   "source": [
    "from imblearn.over_sampling import SMOTE\n",
    "# this is one additional function I'll be needing\n",
    "sme = SMOTE(ratio=0.5,random_state=1234) # please refer the above section for param definitions.\n",
    "smX,smy = sme.fit_sample(X,y) # transforming "
   ]
  },
  {
   "cell_type": "code",
   "execution_count": 26,
   "metadata": {
    "collapsed": false
   },
   "outputs": [
    {
     "data": {
      "text/plain": [
       "(array([0, 1]), array([87680, 43840]))"
      ]
     },
     "execution_count": 26,
     "metadata": {},
     "output_type": "execute_result"
    }
   ],
   "source": [
    "np.unique(smy,return_counts=True)"
   ]
  },
  {
   "cell_type": "code",
   "execution_count": 8,
   "metadata": {
    "collapsed": true
   },
   "outputs": [],
   "source": [
    "smkf = StratifiedKFold(3,shuffle=True,random_state=340)\n",
    "smconf_mats = [] # list to hold the confusion matrices\n",
    "smpredprobs = [] # predicted probabilities"
   ]
  },
  {
   "cell_type": "code",
   "execution_count": 9,
   "metadata": {
    "collapsed": false
   },
   "outputs": [
    {
     "name": "stdout",
     "output_type": "stream",
     "text": [
      "[ 0 ] Iteration...Starting\n",
      "[``] Fitting\n",
      "[(43841, 2)]\n",
      "[(43841, 2)]\n",
      "[ 0 ] Iteration...Done\n",
      "[ 1 ] Iteration...Starting\n",
      "[``] Fitting\n",
      "[(43840, 2)]\n",
      "[(43840, 2)]\n",
      "[ 1 ] Iteration...Done\n",
      "[ 2 ] Iteration...Starting\n",
      "[``] Fitting\n",
      "[(43839, 2)]\n",
      "[(43839, 2)]\n",
      "[ 2 ] Iteration...Done\n"
     ]
    }
   ],
   "source": [
    "rc = 0\n",
    "plt.figure()\n",
    "for tr,te in kf.split(smX,smy):\n",
    "     print \"[\",rc,'] Iteration...Starting'\n",
    "     xtrain, xtest = smX[tr],smX[te]\n",
    "     ytrain, ytest = smy[tr],smy[te]\n",
    "     nn = Classifier(layers=smnnlayer,learning_rule='adam',batch_size=500,valid_size=0.2,random_state=1234)\n",
    "     print \"[``] Fitting\"\n",
    "     nn.fit(xtrain,ytrain) # My fitting\n",
    "     ypredict = nn.predict(xtest)\n",
    "     smconf_mats.append(confusion_matrix(ytest,ypredict))\n",
    "     ypp = nn.predict_proba(xtest)\n",
    "     tdf = np.column_stack((ytest,ypredict,ypp[:,0],ypp[:,1]))\n",
    "     if rc == 0:\n",
    "        smoutdf = tdf\n",
    "     else:\n",
    "        smoutdf = np.concatenate((smoutdf,tdf),axis=0)\n",
    "     print \"[\",rc,'] Iteration...Done'\n",
    "     rc = rc + 1"
   ]
  },
  {
   "cell_type": "code",
   "execution_count": 10,
   "metadata": {
    "collapsed": false
   },
   "outputs": [
    {
     "data": {
      "text/plain": [
       "<matplotlib.figure.Figure at 0x7f41552af710>"
      ]
     },
     "metadata": {},
     "output_type": "display_data"
    },
    {
     "data": {
      "image/png": "[encoded data removed]",
      "text/plain": [
       "<matplotlib.figure.Figure at 0x7f414e2907d0>"
      ]
     },
     "metadata": {},
     "output_type": "display_data"
    }
   ],
   "source": [
    "cfm3in1(smconf_mats,clname)\n",
    "plt.show()"
   ]
  },
  {
   "cell_type": "markdown",
   "metadata": {},
   "source": [
    "## FPR Analysis"
   ]
  },
  {
   "cell_type": "code",
   "execution_count": 23,
   "metadata": {
    "collapsed": false
   },
   "outputs": [
    {
     "data": {
      "image/png": "[encoded data removed]",
      "text/plain": [
       "<matplotlib.figure.Figure at 0x7f414e3ad490>"
      ]
     },
     "metadata": {},
     "output_type": "display_data"
    }
   ],
   "source": [
    "erts_plot(givemis(outdf,0.0,1.0),givemis(outdf,0.0,1.0),[0.0,1.0])\n",
    "plt.show()"
   ]
  },
  {
   "cell_type": "code",
   "execution_count": 24,
   "metadata": {
    "collapsed": false,
    "scrolled": true
   },
   "outputs": [
    {
     "data": {
      "image/png": "[encoded data removed]",
      "text/plain": [
       "<matplotlib.figure.Figure at 0x7f414bc6e450>"
      ]
     },
     "metadata": {},
     "output_type": "display_data"
    }
   ],
   "source": [
    "erts_plot(givemis(smoutdf,0.0,1.0),givemis(smoutdf,0.5,0.53),[0.5,0.53])\n",
    "plt.show()"
   ]
  },
  {
   "cell_type": "code",
   "execution_count": 35,
   "metadata": {
    "collapsed": false
   },
   "outputs": [
    {
     "name": "stdout",
     "output_type": "stream",
     "text": [
      "FPR: 0.00517598343685\n",
      "FNR: 0.0121635610766\n",
      "Recall: 0.0931208053691\n",
      "Precision: 0.194395796848\n"
     ]
    }
   ],
   "source": [
    "thres(0.2,outdf)"
   ]
  },
  {
   "cell_type": "code",
   "execution_count": 36,
   "metadata": {
    "collapsed": false
   },
   "outputs": [
    {
     "name": "stdout",
     "output_type": "stream",
     "text": [
      "FPR: 0.00365694481952\n",
      "FNR: 0.0133450355568\n",
      "Recall: 0.00503355704698\n",
      "Precision: 0.0181268882175\n"
     ]
    }
   ],
   "source": [
    "thres(0.6,outdf)"
   ]
  },
  {
   "cell_type": "code",
   "execution_count": 37,
   "metadata": {
    "collapsed": false
   },
   "outputs": [
    {
     "name": "stdout",
     "output_type": "stream",
     "text": [
      "FPR: 0.00265550454586\n",
      "FNR: 0.0134125483842\n",
      "Recall: 0.0\n",
      "Precision: 0.0\n"
     ]
    }
   ],
   "source": [
    "thres(0.9,outdf)"
   ]
  },
  {
   "cell_type": "code",
   "execution_count": 38,
   "metadata": {
    "collapsed": false
   },
   "outputs": [
    {
     "name": "stdout",
     "output_type": "stream",
     "text": [
      "FPR: 0.205953467153\n",
      "FNR: 0.111108576642\n",
      "Recall: 0.666674270073\n",
      "Precision: 0.519000603758\n"
     ]
    }
   ],
   "source": [
    "thres(0.507,smoutdf)"
   ]
  },
  {
   "cell_type": "code",
   "execution_count": 42,
   "metadata": {
    "collapsed": false
   },
   "outputs": [
    {
     "name": "stdout",
     "output_type": "stream",
     "text": [
      "FPR: 0.0999923965937\n",
      "FNR: 0.222217153285\n",
      "Recall: 0.333348540146\n",
      "Precision: 0.526346119215\n"
     ]
    }
   ],
   "source": [
    "thres(0.510,smoutdf)"
   ]
  },
  {
   "cell_type": "code",
   "execution_count": 41,
   "metadata": {
    "collapsed": false
   },
   "outputs": [
    {
     "name": "stdout",
     "output_type": "stream",
     "text": [
      "FPR: 0.09962743309\n",
      "FNR: 0.222217153285\n",
      "Recall: 0.333348540146\n",
      "Precision: 0.527257639716\n"
     ]
    }
   ],
   "source": [
    "thres(0.512,smoutdf)"
   ]
  },
  {
   "cell_type": "markdown",
   "metadata": {},
   "source": [
    "## Metric scores"
   ]
  },
  {
   "cell_type": "code",
   "execution_count": 27,
   "metadata": {
    "collapsed": true
   },
   "outputs": [],
   "source": [
    "from sklearn.metrics import *"
   ]
  },
  {
   "cell_type": "code",
   "execution_count": 28,
   "metadata": {
    "collapsed": false
   },
   "outputs": [
    {
     "name": "stdout",
     "output_type": "stream",
     "text": [
      "The recall score is    0.0109\n",
      "The precision score is 0.0362\n",
      "The accuracy is        0.9828\n",
      "The f1 score is        0.0168\n",
      "The logloss score is   0.5927\n",
      "The MCC is             0.0126\n"
     ]
    }
   ],
   "source": [
    "print \"The recall score is    {:0.4f}\".format(recall_score(outdf[:,0],outdf[:,1]))\n",
    "print \"The precision score is {:0.4f}\".format(precision_score(outdf[:,0],outdf[:,1]))\n",
    "print \"The accuracy is        {:0.4f}\".format(accuracy_score(outdf[:,0],outdf[:,1]))\n",
    "print \"The f1 score is        {:0.4f}\".format(f1_score(outdf[:,0],outdf[:,1]))\n",
    "print \"The logloss score is   {:0.4f}\".format(log_loss(outdf[:,0],outdf[:,1]))\n",
    "print \"The MCC is             {:0.4f}\".format(matthews_corrcoef(outdf[:,0],outdf[:,1]))"
   ]
  },
  {
   "cell_type": "code",
   "execution_count": 29,
   "metadata": {
    "collapsed": false
   },
   "outputs": [
    {
     "name": "stdout",
     "output_type": "stream",
     "text": [
      "The recall score is    1.000000\n",
      "The precision score is 0.5176\n",
      "The accuracy is        0.6893\n",
      "The f1 score is        0.6821\n",
      "The logloss score is   10.7322\n",
      "The MCC is             0.5257\n"
     ]
    }
   ],
   "source": [
    "print \"The recall score is    {:f}\".format(recall_score(smoutdf[:,0],smoutdf[:,1]))\n",
    "print \"The precision score is {:0.4f}\".format(precision_score(smoutdf[:,0],smoutdf[:,1]))\n",
    "print \"The accuracy is        {:0.4f}\".format(accuracy_score(smoutdf[:,0],smoutdf[:,1]))\n",
    "print \"The f1 score is        {:0.4f}\".format(f1_score(smoutdf[:,0],smoutdf[:,1]))\n",
    "print \"The logloss score is   {:0.4f}\".format(log_loss(smoutdf[:,0],smoutdf[:,1]))\n",
    "print \"The MCC is             {:0.4f}\".format(matthews_corrcoef(smoutdf[:,0],smoutdf[:,1]))"
   ]
  },
  {
   "cell_type": "markdown",
   "metadata": {},
   "source": [
    "## Area analysis"
   ]
  },
  {
   "cell_type": "code",
   "execution_count": 30,
   "metadata": {
    "collapsed": false
   },
   "outputs": [
    {
     "name": "stdout",
     "output_type": "stream",
     "text": [
      "mmint 0.00407323603606\n",
      "mis1 0.00836928902855\n",
      "mis2 0.0125268782129\n"
     ]
    }
   ],
   "source": [
    "areas(givemis(outdf,0.0,1.0))"
   ]
  },
  {
   "cell_type": "code",
   "execution_count": 31,
   "metadata": {
    "collapsed": false
   },
   "outputs": [
    {
     "name": "stdout",
     "output_type": "stream",
     "text": [
      "mmint 3.69290021054e-06\n",
      "mis1 0.160616742496\n",
      "mis2 0.1632996633\n"
     ]
    }
   ],
   "source": [
    "areas(givemis(smoutdf,0.0,1.0))"
   ]
  }
 ],
 "metadata": {
  "kernelspec": {
   "display_name": "Python 2",
   "language": "python",
   "name": "python2"
  },
  "language_info": {
   "codemirror_mode": {
    "name": "ipython",
    "version": 2
   },
   "file_extension": ".py",
   "mimetype": "text/x-python",
   "name": "python",
   "nbconvert_exporter": "python",
   "pygments_lexer": "ipython2",
   "version": "2.7.13"
  }
 },
 "nbformat": 4,
 "nbformat_minor": 2
}
