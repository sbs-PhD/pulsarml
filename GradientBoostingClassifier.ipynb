{
 "cells": [
  {
   "cell_type": "markdown",
   "metadata": {},
   "source": [
    "# Running GBC on the dataset."
   ]
  },
  {
   "cell_type": "code",
   "execution_count": 1,
   "metadata": {
    "collapsed": false
   },
   "outputs": [],
   "source": [
    "import numpy as np\n",
    "import pandas as pd\n",
    "import matplotlib.pyplot as plt\n",
    "from sklearn.ensemble import GradientBoostingClassifier as abclf\n",
    "from sklearn.metrics import confusion_matrix\n",
    "from pcfm import plot_confusion_matrix\n",
    "from pfimp import plot_feature_importance\n",
    "from sklearn.model_selection import StratifiedKFold\n",
    "from threeinone import cfm3in1, fimp3in1\n",
    "from fpr_area import givemis,areas,erts_plot,thres"
   ]
  },
  {
   "cell_type": "code",
   "execution_count": 2,
   "metadata": {
    "collapsed": true
   },
   "outputs": [],
   "source": [
    "df = pd.read_csv('all_in_one.csv')\n",
    "df = pd.DataFrame.as_matrix(df)\n",
    "# It seems there are NaNs in the dataset.. \n",
    "# And all of them are in column 3. The one with log(.)\n",
    "df = df[~np.isnan(df).any(axis=1)]\n",
    "X = df[:,0:6] # Our feature matrix\n",
    "y = np.array(df[:,-1],dtype=np.int) # Our truth labels\n",
    "idx = np.array(df[:,6],dtype=np.int) # our ID\n",
    "clname = ['RFI','PULSAR']\n",
    "np.set_printoptions(precision=2)"
   ]
  },
  {
   "cell_type": "code",
   "execution_count": 3,
   "metadata": {
    "collapsed": false
   },
   "outputs": [
    {
     "data": {
      "text/plain": [
       "(array([0, 1]), array([87680,  1192]))"
      ]
     },
     "execution_count": 3,
     "metadata": {},
     "output_type": "execute_result"
    }
   ],
   "source": [
    "np.unique(y,return_counts=True)"
   ]
  },
  {
   "cell_type": "markdown",
   "metadata": {},
   "source": [
    "## No oversampling"
   ]
  },
  {
   "cell_type": "code",
   "execution_count": 4,
   "metadata": {
    "collapsed": true
   },
   "outputs": [],
   "source": [
    "kf = StratifiedKFold(3,shuffle=True,random_state=340)\n",
    "conf_mats = [] # list to hold the confusion matrices\n",
    "fimpl = [] # list to hold the feature importances\n",
    "predprobs = [] # predicted probabilities"
   ]
  },
  {
   "cell_type": "code",
   "execution_count": 5,
   "metadata": {
    "collapsed": true
   },
   "outputs": [],
   "source": [
    "# Hyperparameters\n",
    "num_trees = 100\n",
    "random_seed = 9876\n",
    "num_obj_leaf_node = 3\n",
    "max_depth = 5\n",
    "min_samples_leaf = 1"
   ]
  },
  {
   "cell_type": "code",
   "execution_count": 6,
   "metadata": {
    "collapsed": false
   },
   "outputs": [
    {
     "name": "stdout",
     "output_type": "stream",
     "text": [
      "[ 0 ] Iteration...Starting\n",
      "[``] Fitting\n",
      "[ 0 ] Iteration...Done\n",
      "[ 1 ] Iteration...Starting\n",
      "[``] Fitting\n",
      "[ 1 ] Iteration...Done\n",
      "[ 2 ] Iteration...Starting\n",
      "[``] Fitting\n",
      "[ 2 ] Iteration...Done\n"
     ]
    }
   ],
   "source": [
    "rc = 0\n",
    "conf_mats = [] # list to hold the confusion matrices\n",
    "plt.figure()\n",
    "for tr,te in kf.split(X,y):\n",
    "     print \"[\",rc,'] Iteration...Starting'\n",
    "     xtrain, xtest = X[tr],X[te]\n",
    "     ytrain, ytest,ytid = y[tr],y[te],idx[te]\n",
    "     adclf = abclf(n_estimators=250,max_depth=5,min_samples_leaf=2,learning_rate=1e-1,random_state=1234)\n",
    "     print \"[``] Fitting\"\n",
    "     adclf.fit(xtrain,ytrain) # My fitting\n",
    "     ypredict = adclf.predict(xtest)\n",
    "     conf_mats.append(confusion_matrix(ytest,ypredict))\n",
    "     imp = adclf.feature_importances_\n",
    "     fimpl.append(imp)\n",
    "     ypp = adclf.predict_proba(xtest)\n",
    "     tdf = np.column_stack((ytest,ypredict,ypp[:,0],ypp[:,1]))\n",
    "     if rc == 0:\n",
    "        outdf = tdf\n",
    "     else:\n",
    "        outdf = np.concatenate((outdf,tdf),axis=0)\n",
    "     print \"[\",rc,'] Iteration...Done'\n",
    "     rc = rc + 1"
   ]
  },
  {
   "cell_type": "code",
   "execution_count": 7,
   "metadata": {
    "collapsed": false
   },
   "outputs": [
    {
     "data": {
      "text/plain": [
       "<matplotlib.figure.Figure at 0x7f69a8086ed0>"
      ]
     },
     "metadata": {},
     "output_type": "display_data"
    },
    {
     "data": {
      "image/png": "[encoded data removed]",
      "text/plain": [
       "<matplotlib.figure.Figure at 0x7f69a80a5e50>"
      ]
     },
     "metadata": {},
     "output_type": "display_data"
    }
   ],
   "source": [
    "cfm3in1(conf_mats,clname)\n",
    "plt.show()"
   ]
  },
  {
   "cell_type": "code",
   "execution_count": 8,
   "metadata": {
    "collapsed": false
   },
   "outputs": [
    {
     "data": {
      "image/png": "[encoded data removed]",
      "text/plain": [
       "<matplotlib.figure.Figure at 0x7f69a7951ed0>"
      ]
     },
     "metadata": {},
     "output_type": "display_data"
    }
   ],
   "source": [
    "fimp3in1(fimpl)\n",
    "plt.show()"
   ]
  },
  {
   "cell_type": "markdown",
   "metadata": {},
   "source": [
    "## SMOTE\n",
    "SMOTE is a way to learn imbalanced or highly skewed datasets. \n",
    "We specify a ratio of minority samples(pulsars) and majority samples(RFIs) and SMOTE using K-means and interpolation, generates new samples of the minority class until the desired ratio is achieved. \n",
    "\n",
    "After getting sX,sy afterever follows is the same. Fitting and plotting just with a minor change that I've prepended 'sm' to each variable to differentiate."
   ]
  },
  {
   "cell_type": "code",
   "execution_count": 9,
   "metadata": {
    "collapsed": true
   },
   "outputs": [],
   "source": [
    "from imblearn.over_sampling import SMOTE\n",
    "# this is one additional function I'll be needing\n",
    "sme = SMOTE(ratio=0.5,random_state=1234) # please refer the above section for param definitions.\n",
    "smX,smy = sme.fit_sample(X,y) # transforming "
   ]
  },
  {
   "cell_type": "code",
   "execution_count": 10,
   "metadata": {
    "collapsed": true
   },
   "outputs": [],
   "source": [
    "smkf = StratifiedKFold(3,shuffle=True,random_state=340)\n",
    "smconf_mats = [] # list to hold the confusion matrices\n",
    "smfimpl = [] # list to hold the feature importances\n",
    "smpredprobs = [] # predicted probabilities"
   ]
  },
  {
   "cell_type": "code",
   "execution_count": 11,
   "metadata": {
    "collapsed": false
   },
   "outputs": [
    {
     "name": "stdout",
     "output_type": "stream",
     "text": [
      "[ 0 ] Iteration...Starting\n",
      "[``] Fitting\n",
      "[ 0 ] Iteration...Done\n",
      "[ 1 ] Iteration...Starting\n",
      "[``] Fitting\n",
      "[ 1 ] Iteration...Done\n",
      "[ 2 ] Iteration...Starting\n",
      "[``] Fitting\n",
      "[ 2 ] Iteration...Done\n"
     ]
    }
   ],
   "source": [
    "rc = 0\n",
    "smconf_mats = [] # list to hold the confusion matrices\n",
    "plt.figure()\n",
    "for tr,te in kf.split(smX,smy):\n",
    "     print \"[\",rc,'] Iteration...Starting'\n",
    "     xtrain, xtest = smX[tr],smX[te]\n",
    "     ytrain, ytest= smy[tr],smy[te]\n",
    "     smadclf = abclf(n_estimators=300,max_depth=5,min_samples_leaf=3,learning_rate=1e-2,random_state=1234)\n",
    "     print \"[``] Fitting\"\n",
    "     smadclf.fit(xtrain,ytrain) # My fitting\n",
    "     ypredict = smadclf.predict(xtest)\n",
    "     smconf_mats.append(confusion_matrix(ytest,ypredict))\n",
    "     imp = smadclf.feature_importances_\n",
    "     smfimpl.append(imp)\n",
    "     ypp = smadclf.predict_proba(xtest)\n",
    "     tdf = np.column_stack((ytest,ypredict,ypp[:,0],ypp[:,1]))\n",
    "     if rc == 0:\n",
    "        smoutdf = tdf\n",
    "     else:\n",
    "        smoutdf = np.concatenate((smoutdf,tdf),axis=0)\n",
    "     print \"[\",rc,'] Iteration...Done'\n",
    "     rc = rc + 1"
   ]
  },
  {
   "cell_type": "code",
   "execution_count": 12,
   "metadata": {
    "collapsed": false
   },
   "outputs": [
    {
     "data": {
      "text/plain": [
       "<matplotlib.figure.Figure at 0x7f69a750d610>"
      ]
     },
     "metadata": {},
     "output_type": "display_data"
    },
    {
     "data": {
      "image/png": "[encoded data removed]",
      "text/plain": [
       "<matplotlib.figure.Figure at 0x7f69a7b42910>"
      ]
     },
     "metadata": {},
     "output_type": "display_data"
    }
   ],
   "source": [
    "cfm3in1(smconf_mats,clname)\n",
    "plt.show()"
   ]
  },
  {
   "cell_type": "code",
   "execution_count": 13,
   "metadata": {
    "collapsed": false
   },
   "outputs": [
    {
     "data": {
      "image/png": "[encoded data removed]",
      "text/plain": [
       "<matplotlib.figure.Figure at 0x7f69a74b1990>"
      ]
     },
     "metadata": {},
     "output_type": "display_data"
    }
   ],
   "source": [
    "fimp3in1(smfimpl)\n",
    "plt.show()"
   ]
  },
  {
   "cell_type": "markdown",
   "metadata": {},
   "source": [
    "## FPR Analysis"
   ]
  },
  {
   "cell_type": "code",
   "execution_count": 14,
   "metadata": {
    "collapsed": false
   },
   "outputs": [
    {
     "data": {
      "image/png": "[encoded data removed]",
      "text/plain": [
       "<matplotlib.figure.Figure at 0x7f69a7b42850>"
      ]
     },
     "metadata": {},
     "output_type": "display_data"
    }
   ],
   "source": [
    "erts_plot(givemis(outdf,0.0,1.0),givemis(outdf,0.0,1.0),[0.0,1.0])\n",
    "plt.show()"
   ]
  },
  {
   "cell_type": "code",
   "execution_count": 15,
   "metadata": {
    "collapsed": false
   },
   "outputs": [
    {
     "data": {
      "image/png": "[encoded data removed]",
      "text/plain": [
       "<matplotlib.figure.Figure at 0x7f69a7a2b510>"
      ]
     },
     "metadata": {},
     "output_type": "display_data"
    }
   ],
   "source": [
    "erts_plot(givemis(smoutdf,0.0,1.0),givemis(smoutdf,0.0,1.0),[0.0,1.0])\n",
    "plt.show()"
   ]
  },
  {
   "cell_type": "code",
   "execution_count": 27,
   "metadata": {
    "collapsed": false
   },
   "outputs": [
    {
     "name": "stdout",
     "output_type": "stream",
     "text": [
      "FPR: 0.000191286344405\n",
      "FNR: 3.37564137186e-05\n",
      "Recall: 0.997483221477\n",
      "Precision: 0.985903814262\n"
     ]
    }
   ],
   "source": [
    "thres(0.4,outdf)"
   ]
  },
  {
   "cell_type": "code",
   "execution_count": 28,
   "metadata": {
    "collapsed": false
   },
   "outputs": [
    {
     "name": "stdout",
     "output_type": "stream",
     "text": [
      "FPR: 0.000180034206499\n",
      "FNR: 4.50085516248e-05\n",
      "Recall: 0.996644295302\n",
      "Precision: 0.986710963455\n"
     ]
    }
   ],
   "source": [
    "thres(0.8,outdf)"
   ]
  },
  {
   "cell_type": "code",
   "execution_count": 29,
   "metadata": {
    "collapsed": false
   },
   "outputs": [
    {
     "name": "stdout",
     "output_type": "stream",
     "text": [
      "FPR: 0.000146277792781\n",
      "FNR: 0.000101269241156\n",
      "Recall: 0.99244966443\n",
      "Precision: 0.989130434783\n"
     ]
    }
   ],
   "source": [
    "thres(0.97,outdf)"
   ]
  },
  {
   "cell_type": "code",
   "execution_count": 30,
   "metadata": {
    "collapsed": false
   },
   "outputs": [
    {
     "name": "stdout",
     "output_type": "stream",
     "text": [
      "FPR: 0.000129257907543\n",
      "FNR: 1.52068126521e-05\n",
      "Recall: 0.999954379562\n",
      "Precision: 0.99961235891\n"
     ]
    }
   ],
   "source": [
    "thres(0.4,smoutdf)"
   ]
  },
  {
   "cell_type": "code",
   "execution_count": 31,
   "metadata": {
    "collapsed": false
   },
   "outputs": [
    {
     "name": "stdout",
     "output_type": "stream",
     "text": [
      "FPR: 0.000121654501217\n",
      "FNR: 5.32238442822e-05\n",
      "Recall: 0.999840328467\n",
      "Precision: 0.999635111405\n"
     ]
    }
   ],
   "source": [
    "thres(0.9,smoutdf)"
   ]
  },
  {
   "cell_type": "code",
   "execution_count": 33,
   "metadata": {
    "collapsed": false,
    "scrolled": true
   },
   "outputs": [
    {
     "name": "stdout",
     "output_type": "stream",
     "text": [
      "FPR: 0.000106447688564\n",
      "FNR: 0.000114051094891\n",
      "Recall: 0.999657846715\n",
      "Precision: 0.99968064965\n"
     ]
    }
   ],
   "source": [
    "thres(0.96,smoutdf)"
   ]
  },
  {
   "cell_type": "markdown",
   "metadata": {},
   "source": [
    "## Metric scores"
   ]
  },
  {
   "cell_type": "code",
   "execution_count": 22,
   "metadata": {
    "collapsed": true
   },
   "outputs": [],
   "source": [
    "from sklearn.metrics import *"
   ]
  },
  {
   "cell_type": "code",
   "execution_count": 23,
   "metadata": {
    "collapsed": false
   },
   "outputs": [
    {
     "name": "stdout",
     "output_type": "stream",
     "text": [
      "The recall score is    0.9975\n",
      "The precision score is 0.9867\n",
      "The accuracy is        0.9998\n",
      "The f1 score is        0.9921\n",
      "The logloss score is   0.0074\n",
      "The MCC is             0.9920\n"
     ]
    }
   ],
   "source": [
    "print \"The recall score is    {:0.4f}\".format(recall_score(outdf[:,0],outdf[:,1]))\n",
    "print \"The precision score is {:0.4f}\".format(precision_score(outdf[:,0],outdf[:,1]))\n",
    "print \"The accuracy is        {:0.4f}\".format(accuracy_score(outdf[:,0],outdf[:,1]))\n",
    "print \"The f1 score is        {:0.4f}\".format(f1_score(outdf[:,0],outdf[:,1]))\n",
    "print \"The logloss score is   {:0.4f}\".format(log_loss(outdf[:,0],outdf[:,1]))\n",
    "print \"The MCC is             {:0.4f}\".format(matthews_corrcoef(outdf[:,0],outdf[:,1]))"
   ]
  },
  {
   "cell_type": "code",
   "execution_count": 24,
   "metadata": {
    "collapsed": false,
    "scrolled": true
   },
   "outputs": [
    {
     "name": "stdout",
     "output_type": "stream",
     "text": [
      "The recall score is    0.999954\n",
      "The precision score is 0.9996\n",
      "The accuracy is        0.9999\n",
      "The f1 score is        0.9998\n",
      "The logloss score is   0.0050\n",
      "The MCC is             0.9997\n"
     ]
    }
   ],
   "source": [
    "print \"The recall score is    {:f}\".format(recall_score(smoutdf[:,0],smoutdf[:,1]))\n",
    "print \"The precision score is {:0.4f}\".format(precision_score(smoutdf[:,0],smoutdf[:,1]))\n",
    "print \"The accuracy is        {:0.4f}\".format(accuracy_score(smoutdf[:,0],smoutdf[:,1]))\n",
    "print \"The f1 score is        {:0.4f}\".format(f1_score(smoutdf[:,0],smoutdf[:,1]))\n",
    "print \"The logloss score is   {:0.4f}\".format(log_loss(smoutdf[:,0],smoutdf[:,1]))\n",
    "print \"The MCC is             {:0.4f}\".format(matthews_corrcoef(smoutdf[:,0],smoutdf[:,1]))"
   ]
  },
  {
   "cell_type": "markdown",
   "metadata": {},
   "source": [
    "## Area analysis"
   ]
  },
  {
   "cell_type": "code",
   "execution_count": 25,
   "metadata": {
    "collapsed": false
   },
   "outputs": [
    {
     "name": "stdout",
     "output_type": "stream",
     "text": [
      "mmint 4.26312059897e-05\n",
      "mis1 0.00433433678156\n",
      "mis2 0.000100312620004\n"
     ]
    }
   ],
   "source": [
    "areas(givemis(outdf,0.0,1.0))"
   ]
  },
  {
   "cell_type": "code",
   "execution_count": 26,
   "metadata": {
    "collapsed": false
   },
   "outputs": [
    {
     "name": "stdout",
     "output_type": "stream",
     "text": [
      "mmint 1.99685418664e-05\n",
      "mis1 0.0102254166769\n",
      "mis2 0.0118043267222\n"
     ]
    }
   ],
   "source": [
    "areas(givemis(smoutdf,0.0,1.0))"
   ]
  }
 ],
 "metadata": {
  "kernelspec": {
   "display_name": "Python 2",
   "language": "python",
   "name": "python2"
  },
  "language_info": {
   "codemirror_mode": {
    "name": "ipython",
    "version": 2
   },
   "file_extension": ".py",
   "mimetype": "text/x-python",
   "name": "python",
   "nbconvert_exporter": "python",
   "pygments_lexer": "ipython2",
   "version": "2.7.13"
  }
 },
 "nbformat": 4,
 "nbformat_minor": 2
}
